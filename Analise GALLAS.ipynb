{
 "cells": [
  {
   "cell_type": "code",
   "execution_count": 1,
   "metadata": {
    "scrolled": true,
    "pycharm": {
     "is_executing": false
    }
   },
   "outputs": [],
   "source": [
    "import pandas as pd\n",
    "from pandas import ExcelWriter\n",
    "from pandas import ExcelFile\n",
    "import numpy as np\n",
    "import matplotlib.pyplot as plt\n",
    "import math as mt\n",
    "import tensorflow as tf"
   ]
  },
  {
   "cell_type": "code",
   "execution_count": 2,
   "metadata": {
    "pycharm": {
     "is_executing": false
    }
   },
   "outputs": [],
   "source": [
    "fp_padrao = 0.92\n",
    "fp_padrao_Sup = 2-fp_padrao"
   ]
  },
  {
   "cell_type": "code",
   "execution_count": 3,
   "metadata": {
    "pycharm": {
     "is_executing": false
    }
   },
   "outputs": [],
   "source": [
    "def normaliza(s):\n",
    "    if s >= 0:\n",
    "       return s\n",
    "    elif s < 0 :\n",
    "       return s + 2"
   ]
  },
  {
   "cell_type": "code",
   "execution_count": 4,
   "metadata": {
    "pycharm": {
     "is_executing": false
    }
   },
   "outputs": [],
   "source": [
    "base = pd.read_excel('testeexport.xlsx')\n",
    "base1 = base\n",
    "\n",
    "base.drop(columns=['Freqüência', 'Ocorrência'],inplace=True)\n",
    "\n",
    "base.rename(columns ={'Fat,Pot T': 'FP T', \n",
    "                            'Fat,Pot, R': 'FP R',\n",
    "                            'Fat,Pot, S': 'FP S'}, inplace=True)\n",
    "base = pd.pivot_table(base, index=['Data'])"
   ]
  },
  {
   "cell_type": "code",
   "execution_count": 5,
   "metadata": {
    "pycharm": {
     "is_executing": false
    }
   },
   "outputs": [],
   "source": [
    "base['Pot R KVA'] = (base['Corrente R'] * base['Tensão R'] * (mt.sqrt(3)))/1000\n",
    "base['Pot S KVA'] = (base['Corrente S'] * base['Tensão S'] * (mt.sqrt(3)))/1000\n",
    "base['Pot T KVA'] = (base['Corrente T'] * base['Tensão T'] * (mt.sqrt(3)))/1000"
   ]
  },
  {
   "cell_type": "code",
   "execution_count": 6,
   "metadata": {
    "pycharm": {
     "is_executing": false
    }
   },
   "outputs": [],
   "source": [
    "#Calculo KVAr usando numpy\n",
    "base['Pot R KW'] = (base['Pot R KVA'] * (base['FP R']))\n",
    "base['Pot S KW'] = (base['Pot S KVA'] * (base['FP S']))\n",
    "base['Pot T KW'] = (base['Pot T KVA'] * (base['FP T']))"
   ]
  },
  {
   "cell_type": "code",
   "execution_count": 7,
   "metadata": {
    "pycharm": {
     "is_executing": false
    }
   },
   "outputs": [],
   "source": [
    "#Calculo KVAr usando numpy\n",
    "base['Pot R KVAr'] = np.sqrt(np.power(base['Pot R KVA'],2) - np.power(base['Pot R KW'],2))\n",
    "base['Pot S KVAr'] = np.sqrt(np.power(base['Pot S KVA'],2) - np.power(base['Pot S KW'],2))\n",
    "base['Pot T KVAr'] = np.sqrt(np.power(base['Pot T KVA'],2) - np.power(base['Pot T KW'],2))"
   ]
  },
  {
   "cell_type": "code",
   "execution_count": 8,
   "metadata": {
    "pycharm": {
     "is_executing": false
    }
   },
   "outputs": [],
   "source": [
    "#Calculo Faltante Kvar\n",
    "base['Pot R KVAr faltante'] = (base['Pot R KVAr']) - (np.sqrt(np.power(base['Pot R KVA'],2)-\n",
    "                                                                      (np.power((base['Pot R KVA'] * (fp_padrao)),2))))\n",
    "base['Pot S KVAr faltante'] = (base['Pot S KVAr']) - (np.sqrt(np.power(base['Pot S KVA'],2)-\n",
    "                                                                      (np.power((base['Pot S KVA'] * (fp_padrao)),2))))\n",
    "base['Pot T KVAr faltante'] = (base['Pot T KVAr']) - (np.sqrt(np.power(base['Pot T KVA'],2)-\n",
    "                                                                      (np.power((base['Pot T KVA'] * (fp_padrao)),2))))"
   ]
  },
  {
   "cell_type": "code",
   "execution_count": 9,
   "metadata": {
    "pycharm": {
     "is_executing": false
    }
   },
   "outputs": [],
   "source": [
    "base[\"FP R\"] = base[\"FP R\"].apply(normaliza)\n",
    "base[\"FP S\"] = base[\"FP S\"].apply(normaliza)\n",
    "base[\"FP T\"] = base[\"FP T\"].apply(normaliza)"
   ]
  },
  {
   "cell_type": "code",
   "execution_count": 10,
   "metadata": {
    "pycharm": {
     "is_executing": false
    }
   },
   "outputs": [],
   "source": [
    "fpfases_abaixo = base.loc[((base[\"FP R\"]< fp_padrao) | (base[\"FP R\"]> fp_padrao_Sup))\n",
    "                         | ((base[\"FP S\"]< fp_padrao) | (base[\"FP S\"]> fp_padrao_Sup))\n",
    "                         | ((base[\"FP T\"]< fp_padrao) | (base[\"FP T\"]> fp_padrao_Sup))]\n",
    "\n",
    "fpfases = base.loc[((base[\"FP R\"]< fp_padrao) | (base[\"FP R\"]> fp_padrao_Sup))\n",
    "                         | ((base[\"FP S\"]< fp_padrao) | (base[\"FP S\"]> fp_padrao_Sup))\n",
    "                         | ((base[\"FP T\"]< fp_padrao) | (base[\"FP T\"]> fp_padrao_Sup))]"
   ]
  },
  {
   "cell_type": "code",
   "execution_count": 11,
   "metadata": {
    "pycharm": {
     "is_executing": false
    }
   },
   "outputs": [],
   "source": [
    "maximoR = fpfases['Pot R KVAr faltante'].max()\n",
    "maximoS = fpfases['Pot S KVAr faltante'].max()\n",
    "maximoT = fpfases['Pot T KVAr faltante'].max()"
   ]
  },
  {
   "cell_type": "code",
   "execution_count": 12,
   "metadata": {
    "pycharm": {
     "is_executing": false
    }
   },
   "outputs": [
    {
     "data": {
      "text/plain": "                     Corrente R  Corrente S  Corrente T  FP R  FP S  FP T  \\\nData                                                                        \n2018-11-20 11:49:29      100.27       97.82       98.22  0.75  0.89  0.75   \n2018-11-20 11:50:10      328.75      291.25      329.75  0.78  0.90  0.79   \n2018-11-20 11:50:20      280.25      245.75      282.25  0.78  0.90  0.79   \n2018-11-20 11:50:30      284.75      249.50      286.50  0.78  0.90  0.79   \n2018-11-20 11:50:40      286.50      251.00      288.00  0.79  0.90  0.80   \n\n                     Tensão R  Tensão S  Tensão T   Pot R KVA  ...  \\\nData                                                           ...   \n2018-11-20 11:49:29    218.62    218.39    219.14   37.968333  ...   \n2018-11-20 11:50:10    218.34    217.45    218.23  124.325351  ...   \n2018-11-20 11:50:20    218.31    217.39    218.20  105.969254  ...   \n2018-11-20 11:50:30    218.20    217.25    218.07  107.616560  ...   \n2018-11-20 11:50:40    218.12    217.23    218.00  108.238245  ...   \n\n                      Pot T KVA   Pot R KW   Pot S KW   Pot T KW  Pot R KVAr  \\\nData                                                                           \n2018-11-20 11:49:29   37.280542  28.476250  32.931464  27.960406   25.113692   \n2018-11-20 11:50:10  124.640701  96.973774  98.725305  98.466154   77.800258   \n2018-11-20 11:50:20  106.671726  82.656018  83.279139  84.270664   66.313388   \n2018-11-20 11:50:30  108.213434  83.940917  84.495479  85.488613   67.344239   \n2018-11-20 11:50:40  108.745078  85.508214  84.995642  86.996062   66.361609   \n\n                     Pot S KVAr  Pot T KVAr  Pot R KVAr faltante  \\\nData                                                               \n2018-11-20 11:49:29   16.871290   24.658761            10.233205   \n2018-11-20 11:50:10   47.814847   76.418067            29.074870   \n2018-11-20 11:50:20   40.333928   65.401165            24.782092   \n2018-11-20 11:50:30   40.923028   66.346397            25.167333   \n2018-11-20 11:50:40   41.165268   65.247047            23.941053   \n\n                     Pot S KVAr faltante  Pot T KVAr faltante  \nData                                                           \n2018-11-20 11:49:29             2.369665            10.047832  \n2018-11-20 11:50:10             4.823448            27.569088  \n2018-11-20 11:50:20             4.068791            23.594557  \n2018-11-20 11:50:30             4.128218            23.935565  \n2018-11-20 11:50:40             4.152654            22.627854  \n\n[5 rows x 21 columns]",
      "text/html": "<div>\n<style scoped>\n    .dataframe tbody tr th:only-of-type {\n        vertical-align: middle;\n    }\n\n    .dataframe tbody tr th {\n        vertical-align: top;\n    }\n\n    .dataframe thead th {\n        text-align: right;\n    }\n</style>\n<table border=\"1\" class=\"dataframe\">\n  <thead>\n    <tr style=\"text-align: right;\">\n      <th></th>\n      <th>Corrente R</th>\n      <th>Corrente S</th>\n      <th>Corrente T</th>\n      <th>FP R</th>\n      <th>FP S</th>\n      <th>FP T</th>\n      <th>Tensão R</th>\n      <th>Tensão S</th>\n      <th>Tensão T</th>\n      <th>Pot R KVA</th>\n      <th>...</th>\n      <th>Pot T KVA</th>\n      <th>Pot R KW</th>\n      <th>Pot S KW</th>\n      <th>Pot T KW</th>\n      <th>Pot R KVAr</th>\n      <th>Pot S KVAr</th>\n      <th>Pot T KVAr</th>\n      <th>Pot R KVAr faltante</th>\n      <th>Pot S KVAr faltante</th>\n      <th>Pot T KVAr faltante</th>\n    </tr>\n    <tr>\n      <th>Data</th>\n      <th></th>\n      <th></th>\n      <th></th>\n      <th></th>\n      <th></th>\n      <th></th>\n      <th></th>\n      <th></th>\n      <th></th>\n      <th></th>\n      <th></th>\n      <th></th>\n      <th></th>\n      <th></th>\n      <th></th>\n      <th></th>\n      <th></th>\n      <th></th>\n      <th></th>\n      <th></th>\n      <th></th>\n    </tr>\n  </thead>\n  <tbody>\n    <tr>\n      <td>2018-11-20 11:49:29</td>\n      <td>100.27</td>\n      <td>97.82</td>\n      <td>98.22</td>\n      <td>0.75</td>\n      <td>0.89</td>\n      <td>0.75</td>\n      <td>218.62</td>\n      <td>218.39</td>\n      <td>219.14</td>\n      <td>37.968333</td>\n      <td>...</td>\n      <td>37.280542</td>\n      <td>28.476250</td>\n      <td>32.931464</td>\n      <td>27.960406</td>\n      <td>25.113692</td>\n      <td>16.871290</td>\n      <td>24.658761</td>\n      <td>10.233205</td>\n      <td>2.369665</td>\n      <td>10.047832</td>\n    </tr>\n    <tr>\n      <td>2018-11-20 11:50:10</td>\n      <td>328.75</td>\n      <td>291.25</td>\n      <td>329.75</td>\n      <td>0.78</td>\n      <td>0.90</td>\n      <td>0.79</td>\n      <td>218.34</td>\n      <td>217.45</td>\n      <td>218.23</td>\n      <td>124.325351</td>\n      <td>...</td>\n      <td>124.640701</td>\n      <td>96.973774</td>\n      <td>98.725305</td>\n      <td>98.466154</td>\n      <td>77.800258</td>\n      <td>47.814847</td>\n      <td>76.418067</td>\n      <td>29.074870</td>\n      <td>4.823448</td>\n      <td>27.569088</td>\n    </tr>\n    <tr>\n      <td>2018-11-20 11:50:20</td>\n      <td>280.25</td>\n      <td>245.75</td>\n      <td>282.25</td>\n      <td>0.78</td>\n      <td>0.90</td>\n      <td>0.79</td>\n      <td>218.31</td>\n      <td>217.39</td>\n      <td>218.20</td>\n      <td>105.969254</td>\n      <td>...</td>\n      <td>106.671726</td>\n      <td>82.656018</td>\n      <td>83.279139</td>\n      <td>84.270664</td>\n      <td>66.313388</td>\n      <td>40.333928</td>\n      <td>65.401165</td>\n      <td>24.782092</td>\n      <td>4.068791</td>\n      <td>23.594557</td>\n    </tr>\n    <tr>\n      <td>2018-11-20 11:50:30</td>\n      <td>284.75</td>\n      <td>249.50</td>\n      <td>286.50</td>\n      <td>0.78</td>\n      <td>0.90</td>\n      <td>0.79</td>\n      <td>218.20</td>\n      <td>217.25</td>\n      <td>218.07</td>\n      <td>107.616560</td>\n      <td>...</td>\n      <td>108.213434</td>\n      <td>83.940917</td>\n      <td>84.495479</td>\n      <td>85.488613</td>\n      <td>67.344239</td>\n      <td>40.923028</td>\n      <td>66.346397</td>\n      <td>25.167333</td>\n      <td>4.128218</td>\n      <td>23.935565</td>\n    </tr>\n    <tr>\n      <td>2018-11-20 11:50:40</td>\n      <td>286.50</td>\n      <td>251.00</td>\n      <td>288.00</td>\n      <td>0.79</td>\n      <td>0.90</td>\n      <td>0.80</td>\n      <td>218.12</td>\n      <td>217.23</td>\n      <td>218.00</td>\n      <td>108.238245</td>\n      <td>...</td>\n      <td>108.745078</td>\n      <td>85.508214</td>\n      <td>84.995642</td>\n      <td>86.996062</td>\n      <td>66.361609</td>\n      <td>41.165268</td>\n      <td>65.247047</td>\n      <td>23.941053</td>\n      <td>4.152654</td>\n      <td>22.627854</td>\n    </tr>\n  </tbody>\n</table>\n<p>5 rows × 21 columns</p>\n</div>"
     },
     "metadata": {},
     "output_type": "execute_result",
     "execution_count": 12
    }
   ],
   "source": [
    "base.head()"
   ]
  },
  {
   "cell_type": "code",
   "execution_count": 17,
   "metadata": {
    "pycharm": {
     "is_executing": false
    }
   },
   "outputs": [],
   "source": [
    "def fases():\n",
    "    exceldados = pd.ExcelWriter('FP Fases.xlsx',\n",
    "                                engine='xlsxwriter',\n",
    "                                datetime_format='mmm-d-yyyy hh:mm:ss',\n",
    "                                date_format='mmmm-dd-yyyy',)\n",
    "    base.round(5).to_excel(exceldados, sheet_name='GALLAS') #1\n",
    "    fpfases.round(5).to_excel(exceldados, sheet_name='FP Fora do padrão') #2\n",
    "    exceldados.save()\n",
    "\n",
    "def graficos():\n",
    "    exceldados = pd.ExcelWriter('FP Fases gráficos.xlsx',\n",
    "                                engine='xlsxwriter',\n",
    "                                datetime_format='mmm-d-yyyy hh:mm:ss',\n",
    "                                date_format='mmmm-dd-yyyy',)\n",
    "    base.round(5).to_excel(exceldados, sheet_name='GALLAS') #1\n",
    "    fpfases.round(5).to_excel(exceldados, sheet_name='FP Fora do padrão') #2\n",
    "    exceldados.save()"
   ]
  },
  {
   "cell_type": "code",
   "execution_count": 18,
   "metadata": {
    "pycharm": {
     "is_executing": false
    }
   },
   "outputs": [],
   "source": [
    "graficos()"
   ]
  },
  {
   "cell_type": "code",
   "execution_count": 19,
   "metadata": {
    "pycharm": {
     "is_executing": false
    }
   },
   "outputs": [],
   "source": [
    "fases()"
   ]
  },
  {
   "cell_type": "code",
   "execution_count": null,
   "metadata": {
    "pycharm": {
     "is_executing": false
    }
   },
   "outputs": [],
   "source": []
  }
 ],
 "metadata": {
  "kernelspec": {
   "display_name": "Python 3",
   "language": "python",
   "name": "python3"
  },
  "language_info": {
   "codemirror_mode": {
    "name": "ipython",
    "version": 3
   },
   "file_extension": ".py",
   "mimetype": "text/x-python",
   "name": "python",
   "nbconvert_exporter": "python",
   "pygments_lexer": "ipython3",
   "version": "3.6.9"
  },
  "pycharm": {
   "stem_cell": {
    "cell_type": "raw",
    "source": [],
    "metadata": {
     "collapsed": false
    }
   }
  }
 },
 "nbformat": 4,
 "nbformat_minor": 4
}