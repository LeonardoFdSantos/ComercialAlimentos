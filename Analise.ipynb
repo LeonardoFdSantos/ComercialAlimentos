{
 "cells": [
  {
   "cell_type": "code",
   "execution_count": 1,
   "outputs": [],
   "source": [
    "import numpy as np\n",
    "import pandas as pd\n",
    "from pandas import ExcelWriter\n",
    "from pandas import ExcelFile"
   ],
   "metadata": {
    "collapsed": false,
    "pycharm": {
     "name": "#%%\n",
     "is_executing": false
    }
   }
  },
  {
   "cell_type": "code",
   "execution_count": 2,
   "outputs": [],
   "source": [
    "FonseTotal = pd.read_excel('9_10_11 de março analisador.xlsx',sheet_name='Fonse Total')\n",
    "FonseFreezer = pd.read_excel('9_10_11 de março analisador.xlsx',sheet_name='Freezers Fonse')\n",
    "Subestação = pd.read_excel('9_10_11 de março analisador.xlsx',sheet_name='Subestação Energia')"
   ],
   "metadata": {
    "collapsed": false,
    "pycharm": {
     "name": "#%%\n",
     "is_executing": false
    }
   }
  },
  {
   "cell_type": "code",
   "execution_count": 3,
   "outputs": [],
   "source": [
    "CorrenteRFonseTotal = FonseTotal['Corrente R'].mean()\n",
    "CorrenteSFonseTotal = FonseTotal['Corrente S'].mean()\n",
    "CorrenteTFonseTotal = FonseTotal['Corrente T'].mean()\n"
   ],
   "metadata": {
    "collapsed": false,
    "pycharm": {
     "name": "#%%\n",
     "is_executing": false
    }
   }
  },
  {
   "cell_type": "code",
   "execution_count": 4,
   "outputs": [],
   "source": [
    "CorrenteRFreezer = FonseFreezer['Corrente R'].mean()\n",
    "CorrenteSFreezer = FonseFreezer['Corrente S'].mean()\n",
    "CorrenteTFreezer = FonseFreezer['Corrente T'].mean()\n"
   ],
   "metadata": {
    "collapsed": false,
    "pycharm": {
     "name": "#%%\n",
     "is_executing": false
    }
   }
  },
  {
   "cell_type": "code",
   "execution_count": 5,
   "outputs": [],
   "source": [
    "CorrenteRSub = Subestação['Corrente R'].mean()\n",
    "CorrenteSSub = Subestação['Corrente S'].mean()\n",
    "CorrenteTSub = Subestação['Corrente T'].mean()\n"
   ],
   "metadata": {
    "collapsed": false,
    "pycharm": {
     "name": "#%%\n",
     "is_executing": false
    }
   }
  },
  {
   "cell_type": "code",
   "execution_count": 6,
   "outputs": [],
   "source": [
    "def porcentagem(a,b):\n",
    "    c = a*100/b\n",
    "    return c"
   ],
   "metadata": {
    "collapsed": false,
    "pycharm": {
     "name": "#%%\n",
     "is_executing": false
    }
   }
  },
  {
   "cell_type": "code",
   "execution_count": 7,
   "outputs": [
    {
     "name": "stdout",
     "text": [
      "R = 39.97272159808369 , S = 38.442881857854076 , T = 27.364221255716043\n"
     ],
     "output_type": "stream"
    }
   ],
   "source": [
    "FreezerR = porcentagem(CorrenteRFreezer,CorrenteRFonseTotal)\n",
    "FreezerS = porcentagem(CorrenteSFreezer,CorrenteSFonseTotal)\n",
    "FreezerT = porcentagem(CorrenteTFreezer,CorrenteTFonseTotal)\n",
    "print('R =',FreezerR,', S =', FreezerS,', T =', FreezerT)"
   ],
   "metadata": {
    "collapsed": false,
    "pycharm": {
     "name": "#%%\n",
     "is_executing": false
    }
   }
  },
  {
   "cell_type": "code",
   "execution_count": 8,
   "outputs": [
    {
     "name": "stdout",
     "text": [
      "R = 100.1081405685316 , S = 133.4870242096838 , T = 178.96581272775964\n"
     ],
     "output_type": "stream"
    }
   ],
   "source": [
    "FonseR = porcentagem(CorrenteRFonseTotal,CorrenteRSub)\n",
    "FonseS = porcentagem(CorrenteSFonseTotal,CorrenteSSub)\n",
    "FonseT = porcentagem(CorrenteTFonseTotal,CorrenteTSub)\n",
    "print('R =',FonseR,', S =', FonseS,', T =', FonseT)"
   ],
   "metadata": {
    "collapsed": false,
    "pycharm": {
     "name": "#%%\n",
     "is_executing": false
    }
   }
  },
  {
   "cell_type": "code",
   "execution_count": 9,
   "outputs": [
    {
     "data": {
      "text/plain": "                 Data  Ocorrência  Freqüência  Tensão R  Corrente R  \\\n0 2020-03-11 07:54:14          26        60.0    211.03       16.50   \n1 2020-03-11 07:54:17          66        60.0    212.07       21.45   \n2 2020-03-11 07:54:50           1        59.8    211.75       21.45   \n3 2020-03-11 07:54:55           1        60.0    212.25       21.80   \n4 2020-03-11 07:55:00           1        60.0    212.25       21.80   \n\n   Fat Pot R  Tensão S  Corrente S  Fat Pot S  Tensão T  Corrente T  Fat Pot T  \n0        1.0    210.03       11.00       0.84    208.23       17.65      -0.22  \n1        1.0    211.48       19.90       0.84    209.09       18.30      -0.22  \n2        1.0    211.25       20.20       0.81    209.17       18.40      -0.22  \n3        1.0    210.70       20.55       0.81    209.37       18.50      -0.22  \n4        1.0    210.62       20.52       0.81    209.37       18.47      -0.22  ",
      "text/html": "<div>\n<style scoped>\n    .dataframe tbody tr th:only-of-type {\n        vertical-align: middle;\n    }\n\n    .dataframe tbody tr th {\n        vertical-align: top;\n    }\n\n    .dataframe thead th {\n        text-align: right;\n    }\n</style>\n<table border=\"1\" class=\"dataframe\">\n  <thead>\n    <tr style=\"text-align: right;\">\n      <th></th>\n      <th>Data</th>\n      <th>Ocorrência</th>\n      <th>Freqüência</th>\n      <th>Tensão R</th>\n      <th>Corrente R</th>\n      <th>Fat Pot R</th>\n      <th>Tensão S</th>\n      <th>Corrente S</th>\n      <th>Fat Pot S</th>\n      <th>Tensão T</th>\n      <th>Corrente T</th>\n      <th>Fat Pot T</th>\n    </tr>\n  </thead>\n  <tbody>\n    <tr>\n      <th>0</th>\n      <td>2020-03-11 07:54:14</td>\n      <td>26</td>\n      <td>60.0</td>\n      <td>211.03</td>\n      <td>16.50</td>\n      <td>1.0</td>\n      <td>210.03</td>\n      <td>11.00</td>\n      <td>0.84</td>\n      <td>208.23</td>\n      <td>17.65</td>\n      <td>-0.22</td>\n    </tr>\n    <tr>\n      <th>1</th>\n      <td>2020-03-11 07:54:17</td>\n      <td>66</td>\n      <td>60.0</td>\n      <td>212.07</td>\n      <td>21.45</td>\n      <td>1.0</td>\n      <td>211.48</td>\n      <td>19.90</td>\n      <td>0.84</td>\n      <td>209.09</td>\n      <td>18.30</td>\n      <td>-0.22</td>\n    </tr>\n    <tr>\n      <th>2</th>\n      <td>2020-03-11 07:54:50</td>\n      <td>1</td>\n      <td>59.8</td>\n      <td>211.75</td>\n      <td>21.45</td>\n      <td>1.0</td>\n      <td>211.25</td>\n      <td>20.20</td>\n      <td>0.81</td>\n      <td>209.17</td>\n      <td>18.40</td>\n      <td>-0.22</td>\n    </tr>\n    <tr>\n      <th>3</th>\n      <td>2020-03-11 07:54:55</td>\n      <td>1</td>\n      <td>60.0</td>\n      <td>212.25</td>\n      <td>21.80</td>\n      <td>1.0</td>\n      <td>210.70</td>\n      <td>20.55</td>\n      <td>0.81</td>\n      <td>209.37</td>\n      <td>18.50</td>\n      <td>-0.22</td>\n    </tr>\n    <tr>\n      <th>4</th>\n      <td>2020-03-11 07:55:00</td>\n      <td>1</td>\n      <td>60.0</td>\n      <td>212.25</td>\n      <td>21.80</td>\n      <td>1.0</td>\n      <td>210.62</td>\n      <td>20.52</td>\n      <td>0.81</td>\n      <td>209.37</td>\n      <td>18.47</td>\n      <td>-0.22</td>\n    </tr>\n  </tbody>\n</table>\n</div>"
     },
     "metadata": {},
     "output_type": "execute_result",
     "execution_count": 9
    }
   ],
   "source": [
    "FonseFreezer.head()\n"
   ],
   "metadata": {
    "collapsed": false,
    "pycharm": {
     "name": "#%%\n",
     "is_executing": false
    }
   }
  },
  {
   "cell_type": "code",
   "execution_count": 10,
   "outputs": [
    {
     "data": {
      "text/plain": "                 Data  Freqüência  Tensão R  Corrente R  Fat Pot R  Tensão S  \\\n0 2020-03-11 07:54:14        60.0    211.03       16.50        1.0    210.03   \n1 2020-03-11 07:54:17        60.0    212.07       21.45        1.0    211.48   \n2 2020-03-11 07:54:50        59.8    211.75       21.45        1.0    211.25   \n3 2020-03-11 07:54:55        60.0    212.25       21.80        1.0    210.70   \n4 2020-03-11 07:55:00        60.0    212.25       21.80        1.0    210.62   \n\n   Corrente S  Fat Pot S  Tensão T  Corrente T  Fat Pot T  \n0       11.00       0.84    208.23       17.65      -0.22  \n1       19.90       0.84    209.09       18.30      -0.22  \n2       20.20       0.81    209.17       18.40      -0.22  \n3       20.55       0.81    209.37       18.50      -0.22  \n4       20.52       0.81    209.37       18.47      -0.22  ",
      "text/html": "<div>\n<style scoped>\n    .dataframe tbody tr th:only-of-type {\n        vertical-align: middle;\n    }\n\n    .dataframe tbody tr th {\n        vertical-align: top;\n    }\n\n    .dataframe thead th {\n        text-align: right;\n    }\n</style>\n<table border=\"1\" class=\"dataframe\">\n  <thead>\n    <tr style=\"text-align: right;\">\n      <th></th>\n      <th>Data</th>\n      <th>Freqüência</th>\n      <th>Tensão R</th>\n      <th>Corrente R</th>\n      <th>Fat Pot R</th>\n      <th>Tensão S</th>\n      <th>Corrente S</th>\n      <th>Fat Pot S</th>\n      <th>Tensão T</th>\n      <th>Corrente T</th>\n      <th>Fat Pot T</th>\n    </tr>\n  </thead>\n  <tbody>\n    <tr>\n      <th>0</th>\n      <td>2020-03-11 07:54:14</td>\n      <td>60.0</td>\n      <td>211.03</td>\n      <td>16.50</td>\n      <td>1.0</td>\n      <td>210.03</td>\n      <td>11.00</td>\n      <td>0.84</td>\n      <td>208.23</td>\n      <td>17.65</td>\n      <td>-0.22</td>\n    </tr>\n    <tr>\n      <th>1</th>\n      <td>2020-03-11 07:54:17</td>\n      <td>60.0</td>\n      <td>212.07</td>\n      <td>21.45</td>\n      <td>1.0</td>\n      <td>211.48</td>\n      <td>19.90</td>\n      <td>0.84</td>\n      <td>209.09</td>\n      <td>18.30</td>\n      <td>-0.22</td>\n    </tr>\n    <tr>\n      <th>2</th>\n      <td>2020-03-11 07:54:50</td>\n      <td>59.8</td>\n      <td>211.75</td>\n      <td>21.45</td>\n      <td>1.0</td>\n      <td>211.25</td>\n      <td>20.20</td>\n      <td>0.81</td>\n      <td>209.17</td>\n      <td>18.40</td>\n      <td>-0.22</td>\n    </tr>\n    <tr>\n      <th>3</th>\n      <td>2020-03-11 07:54:55</td>\n      <td>60.0</td>\n      <td>212.25</td>\n      <td>21.80</td>\n      <td>1.0</td>\n      <td>210.70</td>\n      <td>20.55</td>\n      <td>0.81</td>\n      <td>209.37</td>\n      <td>18.50</td>\n      <td>-0.22</td>\n    </tr>\n    <tr>\n      <th>4</th>\n      <td>2020-03-11 07:55:00</td>\n      <td>60.0</td>\n      <td>212.25</td>\n      <td>21.80</td>\n      <td>1.0</td>\n      <td>210.62</td>\n      <td>20.52</td>\n      <td>0.81</td>\n      <td>209.37</td>\n      <td>18.47</td>\n      <td>-0.22</td>\n    </tr>\n  </tbody>\n</table>\n</div>"
     },
     "metadata": {},
     "output_type": "execute_result",
     "execution_count": 10
    }
   ],
   "source": [
    "FonseFreezer.drop('Ocorrência', axis=1, inplace=True)\n",
    "FonseFreezer.head()"
   ],
   "metadata": {
    "collapsed": false,
    "pycharm": {
     "name": "#%%\n",
     "is_executing": false
    }
   }
  },
  {
   "cell_type": "code",
   "execution_count": 11,
   "outputs": [
    {
     "data": {
      "text/plain": "                 Data  Tensão R  Corrente R  Fat Pot R  Tensão S  Corrente S  \\\n0 2020-03-11 07:54:14    211.03       16.50        1.0    210.03       11.00   \n1 2020-03-11 07:54:17    212.07       21.45        1.0    211.48       19.90   \n2 2020-03-11 07:54:50    211.75       21.45        1.0    211.25       20.20   \n3 2020-03-11 07:54:55    212.25       21.80        1.0    210.70       20.55   \n4 2020-03-11 07:55:00    212.25       21.80        1.0    210.62       20.52   \n\n   Fat Pot S  Tensão T  Corrente T  Fat Pot T  \n0       0.84    208.23       17.65      -0.22  \n1       0.84    209.09       18.30      -0.22  \n2       0.81    209.17       18.40      -0.22  \n3       0.81    209.37       18.50      -0.22  \n4       0.81    209.37       18.47      -0.22  ",
      "text/html": "<div>\n<style scoped>\n    .dataframe tbody tr th:only-of-type {\n        vertical-align: middle;\n    }\n\n    .dataframe tbody tr th {\n        vertical-align: top;\n    }\n\n    .dataframe thead th {\n        text-align: right;\n    }\n</style>\n<table border=\"1\" class=\"dataframe\">\n  <thead>\n    <tr style=\"text-align: right;\">\n      <th></th>\n      <th>Data</th>\n      <th>Tensão R</th>\n      <th>Corrente R</th>\n      <th>Fat Pot R</th>\n      <th>Tensão S</th>\n      <th>Corrente S</th>\n      <th>Fat Pot S</th>\n      <th>Tensão T</th>\n      <th>Corrente T</th>\n      <th>Fat Pot T</th>\n    </tr>\n  </thead>\n  <tbody>\n    <tr>\n      <th>0</th>\n      <td>2020-03-11 07:54:14</td>\n      <td>211.03</td>\n      <td>16.50</td>\n      <td>1.0</td>\n      <td>210.03</td>\n      <td>11.00</td>\n      <td>0.84</td>\n      <td>208.23</td>\n      <td>17.65</td>\n      <td>-0.22</td>\n    </tr>\n    <tr>\n      <th>1</th>\n      <td>2020-03-11 07:54:17</td>\n      <td>212.07</td>\n      <td>21.45</td>\n      <td>1.0</td>\n      <td>211.48</td>\n      <td>19.90</td>\n      <td>0.84</td>\n      <td>209.09</td>\n      <td>18.30</td>\n      <td>-0.22</td>\n    </tr>\n    <tr>\n      <th>2</th>\n      <td>2020-03-11 07:54:50</td>\n      <td>211.75</td>\n      <td>21.45</td>\n      <td>1.0</td>\n      <td>211.25</td>\n      <td>20.20</td>\n      <td>0.81</td>\n      <td>209.17</td>\n      <td>18.40</td>\n      <td>-0.22</td>\n    </tr>\n    <tr>\n      <th>3</th>\n      <td>2020-03-11 07:54:55</td>\n      <td>212.25</td>\n      <td>21.80</td>\n      <td>1.0</td>\n      <td>210.70</td>\n      <td>20.55</td>\n      <td>0.81</td>\n      <td>209.37</td>\n      <td>18.50</td>\n      <td>-0.22</td>\n    </tr>\n    <tr>\n      <th>4</th>\n      <td>2020-03-11 07:55:00</td>\n      <td>212.25</td>\n      <td>21.80</td>\n      <td>1.0</td>\n      <td>210.62</td>\n      <td>20.52</td>\n      <td>0.81</td>\n      <td>209.37</td>\n      <td>18.47</td>\n      <td>-0.22</td>\n    </tr>\n  </tbody>\n</table>\n</div>"
     },
     "metadata": {},
     "output_type": "execute_result",
     "execution_count": 11
    }
   ],
   "source": [
    "FonseFreezer.drop('Freqüência', axis=1, inplace=True)\n",
    "FonseFreezer.head()"
   ],
   "metadata": {
    "collapsed": false,
    "pycharm": {
     "name": "#%%\n",
     "is_executing": false
    }
   }
  },
  {
   "cell_type": "code",
   "execution_count": 12,
   "outputs": [
    {
     "data": {
      "text/plain": "                 Data  Tensão R  Corrente R  Fat Pot R  Tensão S  Corrente S  \\\n0 2020-03-11 07:54:14    211.03       16.50        1.0    210.03       11.00   \n1 2020-03-11 07:54:17    212.07       21.45        1.0    211.48       19.90   \n2 2020-03-11 07:54:50    211.75       21.45        1.0    211.25       20.20   \n3 2020-03-11 07:54:55    212.25       21.80        1.0    210.70       20.55   \n4 2020-03-11 07:55:00    212.25       21.80        1.0    210.62       20.52   \n\n   Fat Pot S  Tensão T  Corrente T  Fat Pot T  \n0       0.84    208.23       17.65      -0.22  \n1       0.84    209.09       18.30      -0.22  \n2       0.81    209.17       18.40      -0.22  \n3       0.81    209.37       18.50      -0.22  \n4       0.81    209.37       18.47      -0.22  ",
      "text/html": "<div>\n<style scoped>\n    .dataframe tbody tr th:only-of-type {\n        vertical-align: middle;\n    }\n\n    .dataframe tbody tr th {\n        vertical-align: top;\n    }\n\n    .dataframe thead th {\n        text-align: right;\n    }\n</style>\n<table border=\"1\" class=\"dataframe\">\n  <thead>\n    <tr style=\"text-align: right;\">\n      <th></th>\n      <th>Data</th>\n      <th>Tensão R</th>\n      <th>Corrente R</th>\n      <th>Fat Pot R</th>\n      <th>Tensão S</th>\n      <th>Corrente S</th>\n      <th>Fat Pot S</th>\n      <th>Tensão T</th>\n      <th>Corrente T</th>\n      <th>Fat Pot T</th>\n    </tr>\n  </thead>\n  <tbody>\n    <tr>\n      <th>0</th>\n      <td>2020-03-11 07:54:14</td>\n      <td>211.03</td>\n      <td>16.50</td>\n      <td>1.0</td>\n      <td>210.03</td>\n      <td>11.00</td>\n      <td>0.84</td>\n      <td>208.23</td>\n      <td>17.65</td>\n      <td>-0.22</td>\n    </tr>\n    <tr>\n      <th>1</th>\n      <td>2020-03-11 07:54:17</td>\n      <td>212.07</td>\n      <td>21.45</td>\n      <td>1.0</td>\n      <td>211.48</td>\n      <td>19.90</td>\n      <td>0.84</td>\n      <td>209.09</td>\n      <td>18.30</td>\n      <td>-0.22</td>\n    </tr>\n    <tr>\n      <th>2</th>\n      <td>2020-03-11 07:54:50</td>\n      <td>211.75</td>\n      <td>21.45</td>\n      <td>1.0</td>\n      <td>211.25</td>\n      <td>20.20</td>\n      <td>0.81</td>\n      <td>209.17</td>\n      <td>18.40</td>\n      <td>-0.22</td>\n    </tr>\n    <tr>\n      <th>3</th>\n      <td>2020-03-11 07:54:55</td>\n      <td>212.25</td>\n      <td>21.80</td>\n      <td>1.0</td>\n      <td>210.70</td>\n      <td>20.55</td>\n      <td>0.81</td>\n      <td>209.37</td>\n      <td>18.50</td>\n      <td>-0.22</td>\n    </tr>\n    <tr>\n      <th>4</th>\n      <td>2020-03-11 07:55:00</td>\n      <td>212.25</td>\n      <td>21.80</td>\n      <td>1.0</td>\n      <td>210.62</td>\n      <td>20.52</td>\n      <td>0.81</td>\n      <td>209.37</td>\n      <td>18.47</td>\n      <td>-0.22</td>\n    </tr>\n  </tbody>\n</table>\n</div>"
     },
     "metadata": {},
     "output_type": "execute_result",
     "execution_count": 12
    }
   ],
   "source": [
    "FonseTotal.drop('Ocorrência', axis=1, inplace=True)\n",
    "FonseTotal.drop('Freqüência', axis=1, inplace=True)\n",
    "FonseFreezer.head()"
   ],
   "metadata": {
    "collapsed": false,
    "pycharm": {
     "name": "#%%\n",
     "is_executing": false
    }
   }
  },
  {
   "cell_type": "code",
   "execution_count": 13,
   "outputs": [
    {
     "data": {
      "text/plain": "                 Data  Tensão R  Corrente R  Fat Pot R  Tensão S  Corrente S  \\\n0 2020-03-09 07:39:12    215.89       26.70      -0.96    214.87       20.85   \n1 2020-03-09 07:39:30    216.10       63.95      -0.95    214.89       51.85   \n2 2020-03-09 07:39:35    216.10       63.25      -0.95    214.98       51.65   \n3 2020-03-09 07:39:40    216.14       63.25      -0.96    214.84       51.60   \n4 2020-03-09 07:39:45    216.10       67.00      -0.95    214.81       54.05   \n\n   Fat Pot S  Tensão T  Corrente T  Fat Pot T  \n0      -0.98    214.82       15.80      -0.99  \n1      -0.98    214.89       40.95       1.00  \n2      -0.98    214.82       40.85       1.00  \n3      -0.98    214.82       40.90      -0.99  \n4      -0.97    214.75       43.15      -0.99  ",
      "text/html": "<div>\n<style scoped>\n    .dataframe tbody tr th:only-of-type {\n        vertical-align: middle;\n    }\n\n    .dataframe tbody tr th {\n        vertical-align: top;\n    }\n\n    .dataframe thead th {\n        text-align: right;\n    }\n</style>\n<table border=\"1\" class=\"dataframe\">\n  <thead>\n    <tr style=\"text-align: right;\">\n      <th></th>\n      <th>Data</th>\n      <th>Tensão R</th>\n      <th>Corrente R</th>\n      <th>Fat Pot R</th>\n      <th>Tensão S</th>\n      <th>Corrente S</th>\n      <th>Fat Pot S</th>\n      <th>Tensão T</th>\n      <th>Corrente T</th>\n      <th>Fat Pot T</th>\n    </tr>\n  </thead>\n  <tbody>\n    <tr>\n      <th>0</th>\n      <td>2020-03-09 07:39:12</td>\n      <td>215.89</td>\n      <td>26.70</td>\n      <td>-0.96</td>\n      <td>214.87</td>\n      <td>20.85</td>\n      <td>-0.98</td>\n      <td>214.82</td>\n      <td>15.80</td>\n      <td>-0.99</td>\n    </tr>\n    <tr>\n      <th>1</th>\n      <td>2020-03-09 07:39:30</td>\n      <td>216.10</td>\n      <td>63.95</td>\n      <td>-0.95</td>\n      <td>214.89</td>\n      <td>51.85</td>\n      <td>-0.98</td>\n      <td>214.89</td>\n      <td>40.95</td>\n      <td>1.00</td>\n    </tr>\n    <tr>\n      <th>2</th>\n      <td>2020-03-09 07:39:35</td>\n      <td>216.10</td>\n      <td>63.25</td>\n      <td>-0.95</td>\n      <td>214.98</td>\n      <td>51.65</td>\n      <td>-0.98</td>\n      <td>214.82</td>\n      <td>40.85</td>\n      <td>1.00</td>\n    </tr>\n    <tr>\n      <th>3</th>\n      <td>2020-03-09 07:39:40</td>\n      <td>216.14</td>\n      <td>63.25</td>\n      <td>-0.96</td>\n      <td>214.84</td>\n      <td>51.60</td>\n      <td>-0.98</td>\n      <td>214.82</td>\n      <td>40.90</td>\n      <td>-0.99</td>\n    </tr>\n    <tr>\n      <th>4</th>\n      <td>2020-03-09 07:39:45</td>\n      <td>216.10</td>\n      <td>67.00</td>\n      <td>-0.95</td>\n      <td>214.81</td>\n      <td>54.05</td>\n      <td>-0.97</td>\n      <td>214.75</td>\n      <td>43.15</td>\n      <td>-0.99</td>\n    </tr>\n  </tbody>\n</table>\n</div>"
     },
     "metadata": {},
     "output_type": "execute_result",
     "execution_count": 13
    }
   ],
   "source": [
    "Subestação.drop('Ocorrência', axis=1, inplace=True)\n",
    "Subestação.drop('Freqüência', axis=1, inplace=True)\n",
    "Subestação.head()\n"
   ],
   "metadata": {
    "collapsed": false,
    "pycharm": {
     "name": "#%%\n",
     "is_executing": false
    }
   }
  },
  {
   "cell_type": "code",
   "execution_count": 14,
   "outputs": [],
   "source": [
    "Subestação['Data'] = pd.to_datetime(Subestação['Data'])\n",
    "FonseTotal['Data'] = pd.to_datetime(FonseTotal['Data'])\n",
    "FonseFreezer['Data'] = pd.to_datetime(FonseFreezer['Data'])\n"
   ],
   "metadata": {
    "collapsed": false,
    "pycharm": {
     "name": "#%%\n",
     "is_executing": false
    }
   }
  },
  {
   "cell_type": "code",
   "execution_count": 15,
   "outputs": [
    {
     "data": {
      "text/plain": "                     Data  Tensão R  Corrente R  Fat Pot R  Tensão S  \\\n0     2020-03-09 07:39:12    215.89       26.70      -0.96    214.87   \n1     2020-03-09 07:39:30    216.10       63.95      -0.95    214.89   \n2     2020-03-09 07:39:35    216.10       63.25      -0.95    214.98   \n3     2020-03-09 07:39:40    216.14       63.25      -0.96    214.84   \n4     2020-03-09 07:39:45    216.10       67.00      -0.95    214.81   \n...                   ...       ...         ...        ...       ...   \n16684 2020-03-10 07:32:50    214.50       77.50      -0.94    213.87   \n16685 2020-03-10 07:32:55    214.53       77.05      -0.94    213.92   \n16686 2020-03-10 07:33:00    214.50       76.85      -0.94    213.92   \n16687 2020-03-10 07:33:05    214.59       76.55      -0.94    213.95   \n16688 2020-03-10 07:33:11    214.53       76.40      -0.94    213.87   \n\n       Corrente S  Fat Pot S  Tensão T  Corrente T  Fat Pot T  \n0           20.85      -0.98    214.82       15.80      -0.99  \n1           51.85      -0.98    214.89       40.95       1.00  \n2           51.65      -0.98    214.82       40.85       1.00  \n3           51.60      -0.98    214.82       40.90      -0.99  \n4           54.05      -0.97    214.75       43.15      -0.99  \n...           ...        ...       ...         ...        ...  \n16684       45.65      -0.98    213.03       34.30      -0.98  \n16685       45.70      -0.98    213.06       34.40      -0.98  \n16686       45.60      -0.98    213.07       34.35      -0.98  \n16687       45.60      -0.98    213.12       34.10      -0.98  \n16688       45.50      -0.98    213.09       34.15      -0.98  \n\n[16689 rows x 10 columns]",
      "text/html": "<div>\n<style scoped>\n    .dataframe tbody tr th:only-of-type {\n        vertical-align: middle;\n    }\n\n    .dataframe tbody tr th {\n        vertical-align: top;\n    }\n\n    .dataframe thead th {\n        text-align: right;\n    }\n</style>\n<table border=\"1\" class=\"dataframe\">\n  <thead>\n    <tr style=\"text-align: right;\">\n      <th></th>\n      <th>Data</th>\n      <th>Tensão R</th>\n      <th>Corrente R</th>\n      <th>Fat Pot R</th>\n      <th>Tensão S</th>\n      <th>Corrente S</th>\n      <th>Fat Pot S</th>\n      <th>Tensão T</th>\n      <th>Corrente T</th>\n      <th>Fat Pot T</th>\n    </tr>\n  </thead>\n  <tbody>\n    <tr>\n      <th>0</th>\n      <td>2020-03-09 07:39:12</td>\n      <td>215.89</td>\n      <td>26.70</td>\n      <td>-0.96</td>\n      <td>214.87</td>\n      <td>20.85</td>\n      <td>-0.98</td>\n      <td>214.82</td>\n      <td>15.80</td>\n      <td>-0.99</td>\n    </tr>\n    <tr>\n      <th>1</th>\n      <td>2020-03-09 07:39:30</td>\n      <td>216.10</td>\n      <td>63.95</td>\n      <td>-0.95</td>\n      <td>214.89</td>\n      <td>51.85</td>\n      <td>-0.98</td>\n      <td>214.89</td>\n      <td>40.95</td>\n      <td>1.00</td>\n    </tr>\n    <tr>\n      <th>2</th>\n      <td>2020-03-09 07:39:35</td>\n      <td>216.10</td>\n      <td>63.25</td>\n      <td>-0.95</td>\n      <td>214.98</td>\n      <td>51.65</td>\n      <td>-0.98</td>\n      <td>214.82</td>\n      <td>40.85</td>\n      <td>1.00</td>\n    </tr>\n    <tr>\n      <th>3</th>\n      <td>2020-03-09 07:39:40</td>\n      <td>216.14</td>\n      <td>63.25</td>\n      <td>-0.96</td>\n      <td>214.84</td>\n      <td>51.60</td>\n      <td>-0.98</td>\n      <td>214.82</td>\n      <td>40.90</td>\n      <td>-0.99</td>\n    </tr>\n    <tr>\n      <th>4</th>\n      <td>2020-03-09 07:39:45</td>\n      <td>216.10</td>\n      <td>67.00</td>\n      <td>-0.95</td>\n      <td>214.81</td>\n      <td>54.05</td>\n      <td>-0.97</td>\n      <td>214.75</td>\n      <td>43.15</td>\n      <td>-0.99</td>\n    </tr>\n    <tr>\n      <th>...</th>\n      <td>...</td>\n      <td>...</td>\n      <td>...</td>\n      <td>...</td>\n      <td>...</td>\n      <td>...</td>\n      <td>...</td>\n      <td>...</td>\n      <td>...</td>\n      <td>...</td>\n    </tr>\n    <tr>\n      <th>16684</th>\n      <td>2020-03-10 07:32:50</td>\n      <td>214.50</td>\n      <td>77.50</td>\n      <td>-0.94</td>\n      <td>213.87</td>\n      <td>45.65</td>\n      <td>-0.98</td>\n      <td>213.03</td>\n      <td>34.30</td>\n      <td>-0.98</td>\n    </tr>\n    <tr>\n      <th>16685</th>\n      <td>2020-03-10 07:32:55</td>\n      <td>214.53</td>\n      <td>77.05</td>\n      <td>-0.94</td>\n      <td>213.92</td>\n      <td>45.70</td>\n      <td>-0.98</td>\n      <td>213.06</td>\n      <td>34.40</td>\n      <td>-0.98</td>\n    </tr>\n    <tr>\n      <th>16686</th>\n      <td>2020-03-10 07:33:00</td>\n      <td>214.50</td>\n      <td>76.85</td>\n      <td>-0.94</td>\n      <td>213.92</td>\n      <td>45.60</td>\n      <td>-0.98</td>\n      <td>213.07</td>\n      <td>34.35</td>\n      <td>-0.98</td>\n    </tr>\n    <tr>\n      <th>16687</th>\n      <td>2020-03-10 07:33:05</td>\n      <td>214.59</td>\n      <td>76.55</td>\n      <td>-0.94</td>\n      <td>213.95</td>\n      <td>45.60</td>\n      <td>-0.98</td>\n      <td>213.12</td>\n      <td>34.10</td>\n      <td>-0.98</td>\n    </tr>\n    <tr>\n      <th>16688</th>\n      <td>2020-03-10 07:33:11</td>\n      <td>214.53</td>\n      <td>76.40</td>\n      <td>-0.94</td>\n      <td>213.87</td>\n      <td>45.50</td>\n      <td>-0.98</td>\n      <td>213.09</td>\n      <td>34.15</td>\n      <td>-0.98</td>\n    </tr>\n  </tbody>\n</table>\n<p>16689 rows × 10 columns</p>\n</div>"
     },
     "metadata": {},
     "output_type": "execute_result",
     "execution_count": 15
    }
   ],
   "source": [
    "Subestação"
   ],
   "metadata": {
    "collapsed": false,
    "pycharm": {
     "name": "#%%\n",
     "is_executing": false
    }
   }
  },
  {
   "cell_type": "code",
   "execution_count": 25,
   "outputs": [],
   "source": [
    "DiurnoSubestação = Subestação.loc[((Subestação['Data'] >= '2020-03-09 07:00') & (Subestação['Data'] <= '2020-03-09 19:00'))]\n",
    "DiurnoFonse = FonseTotal.loc[((FonseTotal['Data'] >= '2020-03-10 07:00') & (FonseTotal['Data'] <= '2020-03-10 19:00'))]\n",
    "DiurnoFreezer = FonseFreezer.loc[((FonseFreezer['Data'] >= '2020-03-11 07:00') & (FonseFreezer['Data'] <= '2020-03-11 19:00'))]\n",
    "NoturnoSubestação = Subestação.loc[((Subestação['Data'] >= '2020-03-09 19:00') & (Subestação['Data'] <= '2020-03-10 07:00'))]\n",
    "NoturnoFonse = FonseTotal.loc[((FonseTotal['Data'] >= '2020-03-10 19:00') & (FonseTotal['Data'] <= '2020-03-11 07:00'))]\n",
    "NoturnoFreezer = FonseFreezer.loc[((FonseFreezer['Data'] >= '2020-03-11 19:00') & (FonseFreezer['Data'] <= '2020-03-12 07:00'))]"
   ],
   "metadata": {
    "collapsed": false,
    "pycharm": {
     "name": "#%%\n",
     "is_executing": false
    }
   }
  },
  {
   "cell_type": "code",
   "execution_count": 26,
   "outputs": [],
   "source": [
    "def DirunoNoturno():\n",
    "    exceldados = pd.ExcelWriter('ComercialAnalise.xlsx',\n",
    "                                engine='xlsxwriter',\n",
    "                                datetime_format='mmm-d-yyyy hh:mm:ss',\n",
    "                                date_format='mmmm-dd-yyyy',)\n",
    "    Subestação.round(5).to_excel(exceldados, sheet_name='Subestação')\n",
    "    FonseTotal.round(5).to_excel(exceldados, sheet_name='Fonse')\n",
    "    FonseFreezer.round(5).to_excel(exceldados, sheet_name='Freezer')\n",
    "    DiurnoSubestação.round(5).to_excel(exceldados, sheet_name='Diurno Subestação')\n",
    "    NoturnoSubestação.round(5).to_excel(exceldados, sheet_name='Noturno Subestação')\n",
    "    DiurnoFonse.round(5).to_excel(exceldados, sheet_name='Diurno Fonse')\n",
    "    NoturnoFonse.round(5).to_excel(exceldados, sheet_name='Noturno Fonse')\n",
    "    DiurnoFreezer.round(5).to_excel(exceldados, sheet_name='Diurno Freezer')\n",
    "    NoturnoFreezer.round(5).to_excel(exceldados, sheet_name='Noturno Freezer')\n",
    "    exceldados.save()"
   ],
   "metadata": {
    "collapsed": false,
    "pycharm": {
     "name": "#%%\n",
     "is_executing": false
    }
   }
  },
  {
   "cell_type": "code",
   "execution_count": 27,
   "outputs": [],
   "source": [
    "DirunoNoturno()"
   ],
   "metadata": {
    "collapsed": false,
    "pycharm": {
     "name": "#%%\n",
     "is_executing": false
    }
   }
  },
  {
   "cell_type": "code",
   "execution_count": 30,
   "outputs": [
    {
     "data": {
      "text/plain": "                     Tensão R  Corrente R  Fat Pot R  Tensão S  Corrente S  \\\nData                                                                         \n2020-03-09 07:39:12    215.89       26.70      -0.96    214.87       20.85   \n2020-03-09 07:39:30    216.10       63.95      -0.95    214.89       51.85   \n2020-03-09 07:39:35    216.10       63.25      -0.95    214.98       51.65   \n2020-03-09 07:39:40    216.14       63.25      -0.96    214.84       51.60   \n2020-03-09 07:39:45    216.10       67.00      -0.95    214.81       54.05   \n...                       ...         ...        ...       ...         ...   \n2020-03-10 07:32:50    214.50       77.50      -0.94    213.87       45.65   \n2020-03-10 07:32:55    214.53       77.05      -0.94    213.92       45.70   \n2020-03-10 07:33:00    214.50       76.85      -0.94    213.92       45.60   \n2020-03-10 07:33:05    214.59       76.55      -0.94    213.95       45.60   \n2020-03-10 07:33:11    214.53       76.40      -0.94    213.87       45.50   \n\n                     Fat Pot S  Tensão T  Corrente T  Fat Pot T  \nData                                                             \n2020-03-09 07:39:12      -0.98    214.82       15.80      -0.99  \n2020-03-09 07:39:30      -0.98    214.89       40.95       1.00  \n2020-03-09 07:39:35      -0.98    214.82       40.85       1.00  \n2020-03-09 07:39:40      -0.98    214.82       40.90      -0.99  \n2020-03-09 07:39:45      -0.97    214.75       43.15      -0.99  \n...                        ...       ...         ...        ...  \n2020-03-10 07:32:50      -0.98    213.03       34.30      -0.98  \n2020-03-10 07:32:55      -0.98    213.06       34.40      -0.98  \n2020-03-10 07:33:00      -0.98    213.07       34.35      -0.98  \n2020-03-10 07:33:05      -0.98    213.12       34.10      -0.98  \n2020-03-10 07:33:11      -0.98    213.09       34.15      -0.98  \n\n[16688 rows x 9 columns]",
      "text/html": "<div>\n<style scoped>\n    .dataframe tbody tr th:only-of-type {\n        vertical-align: middle;\n    }\n\n    .dataframe tbody tr th {\n        vertical-align: top;\n    }\n\n    .dataframe thead th {\n        text-align: right;\n    }\n</style>\n<table border=\"1\" class=\"dataframe\">\n  <thead>\n    <tr style=\"text-align: right;\">\n      <th></th>\n      <th>Tensão R</th>\n      <th>Corrente R</th>\n      <th>Fat Pot R</th>\n      <th>Tensão S</th>\n      <th>Corrente S</th>\n      <th>Fat Pot S</th>\n      <th>Tensão T</th>\n      <th>Corrente T</th>\n      <th>Fat Pot T</th>\n    </tr>\n    <tr>\n      <th>Data</th>\n      <th></th>\n      <th></th>\n      <th></th>\n      <th></th>\n      <th></th>\n      <th></th>\n      <th></th>\n      <th></th>\n      <th></th>\n    </tr>\n  </thead>\n  <tbody>\n    <tr>\n      <th>2020-03-09 07:39:12</th>\n      <td>215.89</td>\n      <td>26.70</td>\n      <td>-0.96</td>\n      <td>214.87</td>\n      <td>20.85</td>\n      <td>-0.98</td>\n      <td>214.82</td>\n      <td>15.80</td>\n      <td>-0.99</td>\n    </tr>\n    <tr>\n      <th>2020-03-09 07:39:30</th>\n      <td>216.10</td>\n      <td>63.95</td>\n      <td>-0.95</td>\n      <td>214.89</td>\n      <td>51.85</td>\n      <td>-0.98</td>\n      <td>214.89</td>\n      <td>40.95</td>\n      <td>1.00</td>\n    </tr>\n    <tr>\n      <th>2020-03-09 07:39:35</th>\n      <td>216.10</td>\n      <td>63.25</td>\n      <td>-0.95</td>\n      <td>214.98</td>\n      <td>51.65</td>\n      <td>-0.98</td>\n      <td>214.82</td>\n      <td>40.85</td>\n      <td>1.00</td>\n    </tr>\n    <tr>\n      <th>2020-03-09 07:39:40</th>\n      <td>216.14</td>\n      <td>63.25</td>\n      <td>-0.96</td>\n      <td>214.84</td>\n      <td>51.60</td>\n      <td>-0.98</td>\n      <td>214.82</td>\n      <td>40.90</td>\n      <td>-0.99</td>\n    </tr>\n    <tr>\n      <th>2020-03-09 07:39:45</th>\n      <td>216.10</td>\n      <td>67.00</td>\n      <td>-0.95</td>\n      <td>214.81</td>\n      <td>54.05</td>\n      <td>-0.97</td>\n      <td>214.75</td>\n      <td>43.15</td>\n      <td>-0.99</td>\n    </tr>\n    <tr>\n      <th>...</th>\n      <td>...</td>\n      <td>...</td>\n      <td>...</td>\n      <td>...</td>\n      <td>...</td>\n      <td>...</td>\n      <td>...</td>\n      <td>...</td>\n      <td>...</td>\n    </tr>\n    <tr>\n      <th>2020-03-10 07:32:50</th>\n      <td>214.50</td>\n      <td>77.50</td>\n      <td>-0.94</td>\n      <td>213.87</td>\n      <td>45.65</td>\n      <td>-0.98</td>\n      <td>213.03</td>\n      <td>34.30</td>\n      <td>-0.98</td>\n    </tr>\n    <tr>\n      <th>2020-03-10 07:32:55</th>\n      <td>214.53</td>\n      <td>77.05</td>\n      <td>-0.94</td>\n      <td>213.92</td>\n      <td>45.70</td>\n      <td>-0.98</td>\n      <td>213.06</td>\n      <td>34.40</td>\n      <td>-0.98</td>\n    </tr>\n    <tr>\n      <th>2020-03-10 07:33:00</th>\n      <td>214.50</td>\n      <td>76.85</td>\n      <td>-0.94</td>\n      <td>213.92</td>\n      <td>45.60</td>\n      <td>-0.98</td>\n      <td>213.07</td>\n      <td>34.35</td>\n      <td>-0.98</td>\n    </tr>\n    <tr>\n      <th>2020-03-10 07:33:05</th>\n      <td>214.59</td>\n      <td>76.55</td>\n      <td>-0.94</td>\n      <td>213.95</td>\n      <td>45.60</td>\n      <td>-0.98</td>\n      <td>213.12</td>\n      <td>34.10</td>\n      <td>-0.98</td>\n    </tr>\n    <tr>\n      <th>2020-03-10 07:33:11</th>\n      <td>214.53</td>\n      <td>76.40</td>\n      <td>-0.94</td>\n      <td>213.87</td>\n      <td>45.50</td>\n      <td>-0.98</td>\n      <td>213.09</td>\n      <td>34.15</td>\n      <td>-0.98</td>\n    </tr>\n  </tbody>\n</table>\n<p>16688 rows × 9 columns</p>\n</div>"
     },
     "metadata": {},
     "output_type": "execute_result",
     "execution_count": 30
    }
   ],
   "source": [
    "teste = Subestação.groupby(['Data']).mean()\n",
    "teste"
   ],
   "metadata": {
    "collapsed": false,
    "pycharm": {
     "name": "#%%\n",
     "is_executing": false
    }
   }
  },
  {
   "cell_type": "code",
   "execution_count": null,
   "outputs": [],
   "source": [
    "\n"
   ],
   "metadata": {
    "collapsed": false,
    "pycharm": {
     "name": "#%%\n"
    }
   }
  }
 ],
 "metadata": {
  "kernelspec": {
   "display_name": "Python 3",
   "language": "python",
   "name": "python3"
  },
  "language_info": {
   "codemirror_mode": {
    "name": "ipython",
    "version": 2
   },
   "file_extension": ".py",
   "mimetype": "text/x-python",
   "name": "python",
   "nbconvert_exporter": "python",
   "pygments_lexer": "ipython2",
   "version": "2.7.6"
  },
  "pycharm": {
   "stem_cell": {
    "cell_type": "raw",
    "source": [],
    "metadata": {
     "collapsed": false
    }
   }
  }
 },
 "nbformat": 4,
 "nbformat_minor": 0
}