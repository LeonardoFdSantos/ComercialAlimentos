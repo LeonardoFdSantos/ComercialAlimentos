{
 "cells": [
  {
   "cell_type": "code",
   "execution_count": 7,
   "metadata": {
    "pycharm": {
     "is_executing": false
    }
   },
   "outputs": [],
   "source": [
    "import pandas as pd\n",
    "from pandas import ExcelWriter\n",
    "from pandas import ExcelFile\n",
    "import numpy as np\n",
    "import matplotlib.pyplot as plt\n",
    "import math as mt\n",
    "fp_padrao = 0.92\n",
    "fp_padrao_Sup = 2-fp_padrao"
   ]
  },
  {
   "cell_type": "code",
   "execution_count": 8,
   "metadata": {
    "pycharm": {
     "is_executing": false
    }
   },
   "outputs": [],
   "source": [
    "def normaliza(s):\n",
    "    if s >= 0:\n",
    "       return s\n",
    "    elif s < 0:\n",
    "       return s + 2"
   ]
  },
  {
   "cell_type": "code",
   "execution_count": null,
   "metadata": {
    "pycharm": {
     "is_executing": true
    }
   },
   "outputs": [],
   "source": [
    "universal01_dataset = pd.read_excel('universal.xlsx', 'Universal_01')\n",
    "universal02_dataset = pd.read_excel('universal.xlsx', 'Universal_02')\n",
    "univ01 = universal01_dataset\n",
    "univ02 = universal02_dataset\n",
    "\n",
    "Universal = pd.concat([univ02,univ01])\n",
    "\n",
    "Universal.drop(columns=['Freqüência', 'Ocorrência'],inplace=True)\n",
    "\n",
    "Universal.rename(columns ={'Fat,Pot T': 'FP T', \n",
    "                            'Fat,Pot, R': 'FP R',\n",
    "                            'Fat,Pot, S': 'FP S'}, inplace=True)\n",
    "Universal_p = pd.pivot_table(Universal, index=['Data'])"
   ]
  },
  {
   "cell_type": "code",
   "execution_count": null,
   "metadata": {
    "pycharm": {
     "is_executing": true
    }
   },
   "outputs": [],
   "source": [
    "Universal_p['Pot R KVA'] = (Universal_p['Corrente R'] * Universal_p['Tensão R'] * (mt.sqrt(3)))/1000\n",
    "Universal_p['Pot S KVA'] = (Universal_p['Corrente S'] * Universal_p['Tensão S'] * (mt.sqrt(3)))/1000\n",
    "Universal_p['Pot T KVA'] = (Universal_p['Corrente T'] * Universal_p['Tensão T'] * (mt.sqrt(3)))/1000\n",
    "\n",
    "Universal['Pot R KVA'] = (Universal['Corrente R'] * Universal['Tensão R'] * (mt.sqrt(3)))/1000\n",
    "Universal['Pot S KVA'] = (Universal['Corrente S'] * Universal['Tensão S'] * (mt.sqrt(3)))/1000\n",
    "Universal['Pot T KVA'] = (Universal['Corrente T'] * Universal['Tensão T'] * (mt.sqrt(3)))/1000"
   ]
  },
  {
   "cell_type": "code",
   "execution_count": null,
   "metadata": {
    "pycharm": {
     "is_executing": true
    }
   },
   "outputs": [],
   "source": [
    "#Calculo KVAr usando numpy\n",
    "Universal_p['Pot R KW'] = (Universal_p['Pot R KVA'] * (Universal_p['FP R']))\n",
    "Universal_p['Pot S KW'] = (Universal_p['Pot S KVA'] * (Universal_p['FP S']))\n",
    "Universal_p['Pot T KW'] = (Universal_p['Pot T KVA'] * (Universal_p['FP T']))\n",
    "\n",
    "Universal['Pot R KW'] = (Universal['Pot R KVA'] * (Universal['FP R']))\n",
    "Universal['Pot S KW'] = (Universal['Pot S KVA'] * (Universal['FP S']))\n",
    "Universal['Pot T KW'] = (Universal['Pot T KVA'] * (Universal['FP T']))"
   ]
  },
  {
   "cell_type": "code",
   "execution_count": null,
   "metadata": {
    "pycharm": {
     "is_executing": true
    }
   },
   "outputs": [],
   "source": [
    "#Calculo KVAr usando numpy\n",
    "Universal_p['Pot R KVAr'] = np.sqrt(np.power(Universal_p['Pot R KVA'],2) - np.power(Universal_p['Pot R KW'],2))\n",
    "Universal_p['Pot S KVAr'] = np.sqrt(np.power(Universal_p['Pot S KVA'],2) - np.power(Universal_p['Pot S KW'],2))\n",
    "Universal_p['Pot T KVAr'] = np.sqrt(np.power(Universal_p['Pot T KVA'],2) - np.power(Universal_p['Pot T KW'],2))\n",
    "\n",
    "Universal['Pot R KVAr'] = np.sqrt(np.power(Universal['Pot R KVA'],2) - np.power(Universal['Pot R KW'],2))\n",
    "Universal['Pot S KVAr'] = np.sqrt(np.power(Universal['Pot S KVA'],2) - np.power(Universal['Pot S KW'],2))\n",
    "Universal['Pot T KVAr'] = np.sqrt(np.power(Universal['Pot T KVA'],2) - np.power(Universal['Pot T KW'],2))"
   ]
  },
  {
   "cell_type": "code",
   "execution_count": null,
   "metadata": {
    "pycharm": {
     "is_executing": true
    }
   },
   "outputs": [],
   "source": [
    "#Calculo Faltante Kvar\n",
    "Universal_p['Pot R KVAr faltante'] = (Universal_p['Pot R KVAr']) - (np.sqrt(np.power(Universal_p['Pot R KVA'],2)-\n",
    "                                                                      (np.power((Universal_p['Pot R KVA'] * (fp_padrao)),2))))\n",
    "Universal_p['Pot S KVAr faltante'] = (Universal_p['Pot S KVAr']) - (np.sqrt(np.power(Universal_p['Pot S KVA'],2)-\n",
    "                                                                      (np.power((Universal_p['Pot S KVA'] * (fp_padrao)),2))))\n",
    "Universal_p['Pot T KVAr faltante'] = (Universal_p['Pot T KVAr']) - (np.sqrt(np.power(Universal_p['Pot T KVA'],2)-\n",
    "                                                                      (np.power((Universal_p['Pot T KVA'] * (fp_padrao)),2))))\n",
    "\n",
    "Universal['Pot R KVAr faltante'] = (Universal['Pot R KVAr']) - (np.sqrt(np.power(Universal['Pot R KVA'],2)-\n",
    "                                                                      (np.power((Universal['Pot R KVA'] * (fp_padrao)),2))))\n",
    "Universal['Pot S KVAr faltante'] = (Universal['Pot S KVAr']) - (np.sqrt(np.power(Universal['Pot S KVA'],2)-\n",
    "                                                                      (np.power((Universal['Pot S KVA'] * (fp_padrao)),2))))\n",
    "Universal['Pot T KVAr faltante'] = (Universal['Pot T KVAr']) - (np.sqrt(np.power(Universal['Pot T KVA'],2)-\n",
    "                                                                      (np.power((Universal['Pot T KVA'] * (fp_padrao)),2))))"
   ]
  },
  {
   "cell_type": "code",
   "execution_count": null,
   "metadata": {
    "pycharm": {
     "is_executing": true
    }
   },
   "outputs": [],
   "source": [
    "Universal[\"FP R\"] = Universal[\"FP R\"].apply(normaliza)\n",
    "Universal[\"FP S\"] = Universal[\"FP S\"].apply(normaliza)\n",
    "Universal[\"FP T\"] = Universal[\"FP T\"].apply(normaliza)\n",
    "\n",
    "Universal_p[\"FP R\"] = Universal_p[\"FP R\"].apply(normaliza)\n",
    "Universal_p[\"FP S\"] = Universal_p[\"FP S\"].apply(normaliza)\n",
    "Universal_p[\"FP T\"] = Universal_p[\"FP T\"].apply(normaliza)"
   ]
  },
  {
   "cell_type": "code",
   "execution_count": null,
   "metadata": {
    "pycharm": {
     "is_executing": true
    }
   },
   "outputs": [],
   "source": [
    "fpfases_abaixo = Universal.loc[((Universal[\"FP R\"]< fp_padrao) | (Universal[\"FP R\"]> fp_padrao_Sup))\n",
    "                         | ((Universal[\"FP S\"]< fp_padrao) | (Universal[\"FP S\"]> fp_padrao_Sup))\n",
    "                         | ((Universal[\"FP T\"]< fp_padrao) | (Universal[\"FP T\"]> fp_padrao_Sup))]\n",
    "\n",
    "fpfases = Universal_p.loc[((Universal_p[\"FP R\"]< fp_padrao) | (Universal_p[\"FP R\"]> fp_padrao_Sup))\n",
    "                         | ((Universal_p[\"FP S\"]< fp_padrao) | (Universal_p[\"FP S\"]> fp_padrao_Sup))\n",
    "                         | ((Universal_p[\"FP T\"]< fp_padrao) | (Universal_p[\"FP T\"]> fp_padrao_Sup))]"
   ]
  },
  {
   "cell_type": "code",
   "execution_count": null,
   "metadata": {
    "pycharm": {
     "is_executing": true
    }
   },
   "outputs": [],
   "source": [
    "maximoR = fpfases['Pot R KVAr faltante'].max()\n",
    "maximoS = fpfases['Pot S KVAr faltante'].max()\n",
    "maximoT = fpfases['Pot T KVAr faltante'].max()"
   ]
  },
  {
   "cell_type": "code",
   "execution_count": null,
   "metadata": {
    "pycharm": {
     "is_executing": true
    }
   },
   "outputs": [],
   "source": [
    "Universal.head()"
   ]
  },
  {
   "cell_type": "code",
   "execution_count": null,
   "metadata": {
    "pycharm": {
     "is_executing": true
    }
   },
   "outputs": [],
   "source": [
    "Universal_p.head()"
   ]
  },
  {
   "cell_type": "code",
   "execution_count": null,
   "metadata": {
    "pycharm": {
     "is_executing": true
    }
   },
   "outputs": [],
   "source": [
    "Valores_ComparacaoR = fpfases[(fpfases['FP R'] > fpfases['FP T'] ) & (fpfases['FP R'] > fpfases['FP T'])]\n",
    "Valores_ComparacaoS = fpfases[(fpfases['FP S'] > fpfases['FP T'] ) & (fpfases['FP S'] > fpfases['FP T'])]\n",
    "Valores_ComparacaoT = fpfases[(fpfases['FP T'] > fpfases['FP R'] ) & (fpfases['FP T'] > fpfases['FP S'])]"
   ]
  },
  {
   "cell_type": "code",
   "execution_count": null,
   "metadata": {
    "pycharm": {
     "is_executing": true,
     "name": "#%%\n"
    }
   },
   "outputs": [],
   "source": [
    "Universal_p.round(5).to_csv('Universal Leituras.csv')\n",
    "Universal.round(5).to_csv('Universal.csv')\n",
    "fpfases.round(5).to_csv('Universal FP FORAS.csv')"
   ]
  },
  {
   "cell_type": "code",
   "execution_count": null,
   "metadata": {
    "collapsed": false,
    "jupyter": {
     "outputs_hidden": false
    },
    "pycharm": {
     "is_executing": true,
     "name": "#%%"
    }
   },
   "outputs": [],
   "source": []
  }
 ],
 "metadata": {
  "kernelspec": {
   "display_name": "Python 3",
   "language": "python",
   "name": "python3"
  },
  "language_info": {
   "codemirror_mode": {
    "name": "ipython",
    "version": 3
   },
   "file_extension": ".py",
   "mimetype": "text/x-python",
   "name": "python",
   "nbconvert_exporter": "python",
   "pygments_lexer": "ipython3",
   "version": "3.6.9"
  },
  "pycharm": {
   "stem_cell": {
    "cell_type": "raw",
    "metadata": {
     "collapsed": false
    },
    "source": []
   }
  }
 },
 "nbformat": 4,
 "nbformat_minor": 4
}
