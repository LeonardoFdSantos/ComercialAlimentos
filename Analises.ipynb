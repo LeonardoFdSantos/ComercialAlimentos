{
 "cells": [
  {
   "cell_type": "code",
   "execution_count": 1,
   "metadata": {
    "pycharm": {
     "is_executing": false
    }
   },
   "outputs": [],
   "source": [
    "import pandas as pd\n",
    "from pandas import ExcelWriter\n",
    "from pandas import ExcelFile\n",
    "import numpy as np\n",
    "import matplotlib.pyplot as plt\n",
    "import math as mt"
   ]
  },
  {
   "cell_type": "code",
   "execution_count": 2,
   "metadata": {
    "collapsed": false,
    "jupyter": {
     "outputs_hidden": false
    },
    "pycharm": {
     "name": "#%%\n",
     "is_executing": false
    }
   },
   "outputs": [],
   "source": [
    "def normaliza(s):\n",
    "    if s >= 0:\n",
    "       return s\n",
    "    elif s < 0:\n",
    "       return s + 2"
   ]
  },
  {
   "cell_type": "code",
   "execution_count": 3,
   "metadata": {
    "collapsed": false,
    "jupyter": {
     "outputs_hidden": false
    },
    "pycharm": {
     "name": "#%%\n",
     "is_executing": false
    }
   },
   "outputs": [],
   "source": [
    "fp_padrao = 0.92\n",
    "fp_padrao_Sup = 2-fp_padrao"
   ]
  },
  {
   "cell_type": "code",
   "execution_count": 4,
   "metadata": {
    "collapsed": false,
    "jupyter": {
     "outputs_hidden": false
    },
    "pycharm": {
     "name": "#%%\n",
     "is_executing": false
    }
   },
   "outputs": [],
   "source": [
    "universal01_dataset = pd.read_excel('universal.xlsx', 'Universal_01')\n",
    "universal02_dataset = pd.read_excel('universal.xlsx', 'Universal_02')\n",
    "univ01 = universal01_dataset\n",
    "univ02 = universal02_dataset\n",
    "Universal = pd.concat([univ02,univ01])"
   ]
  },
  {
   "cell_type": "code",
   "execution_count": 5,
   "metadata": {
    "pycharm": {
     "is_executing": false
    }
   },
   "outputs": [],
   "source": [
    "Universal.drop(columns=['Freqüência', 'Ocorrência'],inplace=True)\n",
    "\n",
    "Universal.rename(columns ={'Fat,Pot T': 'FP T', \n",
    "                            'Fat,Pot, R': 'FP R',\n",
    "                            'Fat,Pot, S': 'FP S'}, inplace=True)\n",
    "Universal_p = pd.pivot_table(Universal, index=['Data'])"
   ]
  },
  {
   "cell_type": "code",
   "execution_count": 6,
   "metadata": {
    "pycharm": {
     "is_executing": false
    }
   },
   "outputs": [],
   "source": [
    "Universal_p['Pot R KVA'] = (Universal_p['Corrente R'] * Universal_p['Tensão R'] * (mt.sqrt(3)))/1000\n",
    "Universal_p['Pot S KVA'] = (Universal_p['Corrente S'] * Universal_p['Tensão S'] * (mt.sqrt(3)))/1000\n",
    "Universal_p['Pot T KVA'] = (Universal_p['Corrente T'] * Universal_p['Tensão T'] * (mt.sqrt(3)))/1000\n",
    "\n",
    "Universal['Pot R KVA'] = (Universal['Corrente R'] * Universal['Tensão R'] * (mt.sqrt(3)))/1000\n",
    "Universal['Pot S KVA'] = (Universal['Corrente S'] * Universal['Tensão S'] * (mt.sqrt(3)))/1000\n",
    "Universal['Pot T KVA'] = (Universal['Corrente T'] * Universal['Tensão T'] * (mt.sqrt(3)))/1000"
   ]
  },
  {
   "cell_type": "code",
   "execution_count": 7,
   "metadata": {
    "pycharm": {
     "is_executing": false
    }
   },
   "outputs": [],
   "source": [
    "#Calculo KVAr usando numpy\n",
    "Universal_p['Pot R KW'] = (Universal_p['Pot R KVA'] * (Universal_p['FP R']))\n",
    "Universal_p['Pot S KW'] = (Universal_p['Pot S KVA'] * (Universal_p['FP S']))\n",
    "Universal_p['Pot T KW'] = (Universal_p['Pot T KVA'] * (Universal_p['FP T']))\n",
    "\n",
    "Universal['Pot R KW'] = (Universal['Pot R KVA'] * (Universal['FP R']))\n",
    "Universal['Pot S KW'] = (Universal['Pot S KVA'] * (Universal['FP S']))\n",
    "Universal['Pot T KW'] = (Universal['Pot T KVA'] * (Universal['FP T']))"
   ]
  },
  {
   "cell_type": "code",
   "execution_count": 8,
   "metadata": {
    "pycharm": {
     "is_executing": false
    }
   },
   "outputs": [],
   "source": [
    "#Calculo KVAr usando numpy\n",
    "Universal_p['Pot R KVAr'] = np.sqrt(np.power(Universal_p['Pot R KVA'],2) - np.power(Universal_p['Pot R KW'],2))\n",
    "Universal_p['Pot S KVAr'] = np.sqrt(np.power(Universal_p['Pot S KVA'],2) - np.power(Universal_p['Pot S KW'],2))\n",
    "Universal_p['Pot T KVAr'] = np.sqrt(np.power(Universal_p['Pot T KVA'],2) - np.power(Universal_p['Pot T KW'],2))\n",
    "\n",
    "Universal['Pot R KVAr'] = np.sqrt(np.power(Universal['Pot R KVA'],2) - np.power(Universal['Pot R KW'],2))\n",
    "Universal['Pot S KVAr'] = np.sqrt(np.power(Universal['Pot S KVA'],2) - np.power(Universal['Pot S KW'],2))\n",
    "Universal['Pot T KVAr'] = np.sqrt(np.power(Universal['Pot T KVA'],2) - np.power(Universal['Pot T KW'],2))"
   ]
  },
  {
   "cell_type": "code",
   "execution_count": 9,
   "metadata": {
    "pycharm": {
     "is_executing": false
    }
   },
   "outputs": [],
   "source": [
    "#Calculo Faltante Kvar\n",
    "Universal_p['Pot R KVAr faltante'] = (Universal_p['Pot R KVAr']) - (np.sqrt(np.power(Universal_p['Pot R KVA'],2)-\n",
    "                                                                      (np.power((Universal_p['Pot R KVA'] * (fp_padrao)),2))))\n",
    "Universal_p['Pot S KVAr faltante'] = (Universal_p['Pot S KVAr']) - (np.sqrt(np.power(Universal_p['Pot S KVA'],2)-\n",
    "                                                                      (np.power((Universal_p['Pot S KVA'] * (fp_padrao)),2))))\n",
    "Universal_p['Pot T KVAr faltante'] = (Universal_p['Pot T KVAr']) - (np.sqrt(np.power(Universal_p['Pot T KVA'],2)-\n",
    "                                                                      (np.power((Universal_p['Pot T KVA'] * (fp_padrao)),2))))\n",
    "\n",
    "Universal['Pot R KVAr faltante'] = (Universal['Pot R KVAr']) - (np.sqrt(np.power(Universal['Pot R KVA'],2)-\n",
    "                                                                      (np.power((Universal['Pot R KVA'] * (fp_padrao)),2))))\n",
    "Universal['Pot S KVAr faltante'] = (Universal['Pot S KVAr']) - (np.sqrt(np.power(Universal['Pot S KVA'],2)-\n",
    "                                                                      (np.power((Universal['Pot S KVA'] * (fp_padrao)),2))))\n",
    "Universal['Pot T KVAr faltante'] = (Universal['Pot T KVAr']) - (np.sqrt(np.power(Universal['Pot T KVA'],2)-\n",
    "                                                                      (np.power((Universal['Pot T KVA'] * (fp_padrao)),2))))"
   ]
  },
  {
   "cell_type": "code",
   "execution_count": 10,
   "metadata": {
    "pycharm": {
     "is_executing": false
    }
   },
   "outputs": [],
   "source": [
    "Universal[\"FP R\"] = Universal[\"FP R\"].apply(normaliza)\n",
    "Universal[\"FP S\"] = Universal[\"FP S\"].apply(normaliza)\n",
    "Universal[\"FP T\"] = Universal[\"FP T\"].apply(normaliza)\n",
    "\n",
    "Universal_p[\"FP R\"] = Universal_p[\"FP R\"].apply(normaliza)\n",
    "Universal_p[\"FP S\"] = Universal_p[\"FP S\"].apply(normaliza)\n",
    "Universal_p[\"FP T\"] = Universal_p[\"FP T\"].apply(normaliza)"
   ]
  },
  {
   "cell_type": "code",
   "execution_count": 11,
   "metadata": {
    "pycharm": {
     "is_executing": false
    }
   },
   "outputs": [],
   "source": [
    "fpfases_abaixo = Universal.loc[((Universal[\"FP R\"]< fp_padrao) | (Universal[\"FP R\"]> fp_padrao_Sup))\n",
    "                         | ((Universal[\"FP S\"]< fp_padrao) | (Universal[\"FP S\"]> fp_padrao_Sup))\n",
    "                         | ((Universal[\"FP T\"]< fp_padrao) | (Universal[\"FP T\"]> fp_padrao_Sup))]\n",
    "\n",
    "fpfases = Universal_p.loc[((Universal_p[\"FP R\"]< fp_padrao) | (Universal_p[\"FP R\"]> fp_padrao_Sup))\n",
    "                         | ((Universal_p[\"FP S\"]< fp_padrao) | (Universal_p[\"FP S\"]> fp_padrao_Sup))\n",
    "                         | ((Universal_p[\"FP T\"]< fp_padrao) | (Universal_p[\"FP T\"]> fp_padrao_Sup))]"
   ]
  },
  {
   "cell_type": "code",
   "execution_count": 12,
   "metadata": {
    "pycharm": {
     "is_executing": false
    }
   },
   "outputs": [],
   "source": [
    "maximoR = fpfases['Pot R KVAr faltante'].max()\n",
    "maximoS = fpfases['Pot S KVAr faltante'].max()\n",
    "maximoT = fpfases['Pot T KVAr faltante'].max()"
   ]
  },
  {
   "cell_type": "code",
   "execution_count": 13,
   "metadata": {
    "pycharm": {
     "is_executing": false
    }
   },
   "outputs": [
    {
     "data": {
      "text/plain": "                 Data  Tensão R  Corrente R  FP R  Tensão S  Corrente S  FP S  \\\n0 2019-07-11 09:02:50    215.75      212.00  1.01    213.84      225.00  1.01   \n1 2019-07-11 09:04:10    216.00      499.75  1.01    214.23      513.25  1.00   \n2 2019-07-11 09:04:20    215.59      222.50  1.00    214.10      260.50  1.00   \n3 2019-07-11 09:04:30    215.78      285.25  1.00    214.20      264.00  1.00   \n4 2019-07-11 09:04:40    216.00      274.25  1.00    214.46      239.00  1.00   \n\n   Tensão T  Corrente T  FP T  ...   Pot T KVA    Pot R KW    Pot S KW  \\\n0    213.95      237.50  1.00  ...   88.010914  -78.430049  -82.502534   \n1    213.81      572.75  1.01  ...  212.106383 -185.098277  190.445131   \n2    213.70      183.50  1.00  ...   67.920554   83.084355   96.601756   \n3    213.78      245.00  1.00  ...   90.718066  106.609884   97.945395   \n4    214.06      247.00  1.00  ...   91.578411  102.603226   88.777892   \n\n     Pot T KW  Pot R KVAr  Pot S KVAr  Pot T KVAr  Pot R KVAr faltante  \\\n0   88.010914   11.175677   11.755974    0.000000           -19.872986   \n1 -209.985319   26.375076    0.000000   29.921287           -46.901099   \n2   67.920554    0.000000    0.000000    0.000000           -32.562284   \n3   90.718066    0.000000    0.000000    0.000000           -41.782371   \n4   91.578411    0.000000    0.000000    0.000000           -40.212088   \n\n   Pot S KVAr faltante  Pot T KVAr faltante  \n0           -20.904892           -34.493093  \n1           -74.638943           -53.207098  \n2           -37.860002           -26.619312  \n3           -38.386598           -35.554076  \n4           -34.793686           -35.891260  \n\n[5 rows x 22 columns]",
      "text/html": "<div>\n<style scoped>\n    .dataframe tbody tr th:only-of-type {\n        vertical-align: middle;\n    }\n\n    .dataframe tbody tr th {\n        vertical-align: top;\n    }\n\n    .dataframe thead th {\n        text-align: right;\n    }\n</style>\n<table border=\"1\" class=\"dataframe\">\n  <thead>\n    <tr style=\"text-align: right;\">\n      <th></th>\n      <th>Data</th>\n      <th>Tensão R</th>\n      <th>Corrente R</th>\n      <th>FP R</th>\n      <th>Tensão S</th>\n      <th>Corrente S</th>\n      <th>FP S</th>\n      <th>Tensão T</th>\n      <th>Corrente T</th>\n      <th>FP T</th>\n      <th>...</th>\n      <th>Pot T KVA</th>\n      <th>Pot R KW</th>\n      <th>Pot S KW</th>\n      <th>Pot T KW</th>\n      <th>Pot R KVAr</th>\n      <th>Pot S KVAr</th>\n      <th>Pot T KVAr</th>\n      <th>Pot R KVAr faltante</th>\n      <th>Pot S KVAr faltante</th>\n      <th>Pot T KVAr faltante</th>\n    </tr>\n  </thead>\n  <tbody>\n    <tr>\n      <td>0</td>\n      <td>2019-07-11 09:02:50</td>\n      <td>215.75</td>\n      <td>212.00</td>\n      <td>1.01</td>\n      <td>213.84</td>\n      <td>225.00</td>\n      <td>1.01</td>\n      <td>213.95</td>\n      <td>237.50</td>\n      <td>1.00</td>\n      <td>...</td>\n      <td>88.010914</td>\n      <td>-78.430049</td>\n      <td>-82.502534</td>\n      <td>88.010914</td>\n      <td>11.175677</td>\n      <td>11.755974</td>\n      <td>0.000000</td>\n      <td>-19.872986</td>\n      <td>-20.904892</td>\n      <td>-34.493093</td>\n    </tr>\n    <tr>\n      <td>1</td>\n      <td>2019-07-11 09:04:10</td>\n      <td>216.00</td>\n      <td>499.75</td>\n      <td>1.01</td>\n      <td>214.23</td>\n      <td>513.25</td>\n      <td>1.00</td>\n      <td>213.81</td>\n      <td>572.75</td>\n      <td>1.01</td>\n      <td>...</td>\n      <td>212.106383</td>\n      <td>-185.098277</td>\n      <td>190.445131</td>\n      <td>-209.985319</td>\n      <td>26.375076</td>\n      <td>0.000000</td>\n      <td>29.921287</td>\n      <td>-46.901099</td>\n      <td>-74.638943</td>\n      <td>-53.207098</td>\n    </tr>\n    <tr>\n      <td>2</td>\n      <td>2019-07-11 09:04:20</td>\n      <td>215.59</td>\n      <td>222.50</td>\n      <td>1.00</td>\n      <td>214.10</td>\n      <td>260.50</td>\n      <td>1.00</td>\n      <td>213.70</td>\n      <td>183.50</td>\n      <td>1.00</td>\n      <td>...</td>\n      <td>67.920554</td>\n      <td>83.084355</td>\n      <td>96.601756</td>\n      <td>67.920554</td>\n      <td>0.000000</td>\n      <td>0.000000</td>\n      <td>0.000000</td>\n      <td>-32.562284</td>\n      <td>-37.860002</td>\n      <td>-26.619312</td>\n    </tr>\n    <tr>\n      <td>3</td>\n      <td>2019-07-11 09:04:30</td>\n      <td>215.78</td>\n      <td>285.25</td>\n      <td>1.00</td>\n      <td>214.20</td>\n      <td>264.00</td>\n      <td>1.00</td>\n      <td>213.78</td>\n      <td>245.00</td>\n      <td>1.00</td>\n      <td>...</td>\n      <td>90.718066</td>\n      <td>106.609884</td>\n      <td>97.945395</td>\n      <td>90.718066</td>\n      <td>0.000000</td>\n      <td>0.000000</td>\n      <td>0.000000</td>\n      <td>-41.782371</td>\n      <td>-38.386598</td>\n      <td>-35.554076</td>\n    </tr>\n    <tr>\n      <td>4</td>\n      <td>2019-07-11 09:04:40</td>\n      <td>216.00</td>\n      <td>274.25</td>\n      <td>1.00</td>\n      <td>214.46</td>\n      <td>239.00</td>\n      <td>1.00</td>\n      <td>214.06</td>\n      <td>247.00</td>\n      <td>1.00</td>\n      <td>...</td>\n      <td>91.578411</td>\n      <td>102.603226</td>\n      <td>88.777892</td>\n      <td>91.578411</td>\n      <td>0.000000</td>\n      <td>0.000000</td>\n      <td>0.000000</td>\n      <td>-40.212088</td>\n      <td>-34.793686</td>\n      <td>-35.891260</td>\n    </tr>\n  </tbody>\n</table>\n<p>5 rows × 22 columns</p>\n</div>"
     },
     "metadata": {},
     "output_type": "execute_result",
     "execution_count": 13
    }
   ],
   "source": [
    "Universal.head()"
   ]
  },
  {
   "cell_type": "code",
   "execution_count": 14,
   "metadata": {
    "pycharm": {
     "is_executing": false
    }
   },
   "outputs": [
    {
     "data": {
      "text/plain": "                     Corrente R  Corrente S  Corrente T  FP R  FP S  FP T  \\\nData                                                                        \n2019-07-07 05:05:10        1.57        1.45        1.55  0.16  0.03  0.32   \n2019-07-07 05:05:20        1.57        1.45        1.55  0.16  0.03  0.32   \n2019-07-07 05:05:30        1.55        1.45        1.55  0.16  0.03  0.32   \n2019-07-07 05:05:40        1.55        1.45        1.55  0.16  0.03  0.32   \n2019-07-07 05:05:50        1.57        1.45        1.57  0.16  0.03  0.32   \n\n                     Tensão R  Tensão S  Tensão T  Pot R KVA  ...  Pot T KVA  \\\nData                                                          ...              \n2019-07-07 05:05:10    221.25    218.48    218.70   0.601649  ...   0.587139   \n2019-07-07 05:05:20    221.17    218.48    218.64   0.601432  ...   0.586978   \n2019-07-07 05:05:30    221.25    218.53    218.67   0.593985  ...   0.587059   \n2019-07-07 05:05:40    221.25    218.59    218.78   0.593985  ...   0.587354   \n2019-07-07 05:05:50    221.23    218.53    218.75   0.601595  ...   0.594851   \n\n                     Pot R KW  Pot S KW  Pot T KW  Pot R KVAr  Pot S KVAr  \\\nData                                                                        \n2019-07-07 05:05:10  0.096264  0.016461  0.187885    0.593898    0.548460   \n2019-07-07 05:05:20  0.096229  0.016461  0.187833    0.593684    0.548460   \n2019-07-07 05:05:30  0.095038  0.016465  0.187859    0.586333    0.548585   \n2019-07-07 05:05:40  0.095038  0.016469  0.187953    0.586333    0.548736   \n2019-07-07 05:05:50  0.096255  0.016465  0.190352    0.593845    0.548585   \n\n                     Pot T KVAr  Pot R KVAr faltante  Pot S KVAr faltante  \\\nData                                                                        \n2019-07-07 05:05:10    0.556266             0.358101             0.333412   \n2019-07-07 05:05:20    0.556113             0.357971             0.333412   \n2019-07-07 05:05:30    0.556190             0.353539             0.333488   \n2019-07-07 05:05:40    0.556469             0.353539             0.333579   \n2019-07-07 05:05:50    0.563572             0.358069             0.333488   \n\n                     Pot T KVAr faltante  \nData                                      \n2019-07-07 05:05:10             0.326155  \n2019-07-07 05:05:20             0.326066  \n2019-07-07 05:05:30             0.326111  \n2019-07-07 05:05:40             0.326275  \n2019-07-07 05:05:50             0.330439  \n\n[5 rows x 21 columns]",
      "text/html": "<div>\n<style scoped>\n    .dataframe tbody tr th:only-of-type {\n        vertical-align: middle;\n    }\n\n    .dataframe tbody tr th {\n        vertical-align: top;\n    }\n\n    .dataframe thead th {\n        text-align: right;\n    }\n</style>\n<table border=\"1\" class=\"dataframe\">\n  <thead>\n    <tr style=\"text-align: right;\">\n      <th></th>\n      <th>Corrente R</th>\n      <th>Corrente S</th>\n      <th>Corrente T</th>\n      <th>FP R</th>\n      <th>FP S</th>\n      <th>FP T</th>\n      <th>Tensão R</th>\n      <th>Tensão S</th>\n      <th>Tensão T</th>\n      <th>Pot R KVA</th>\n      <th>...</th>\n      <th>Pot T KVA</th>\n      <th>Pot R KW</th>\n      <th>Pot S KW</th>\n      <th>Pot T KW</th>\n      <th>Pot R KVAr</th>\n      <th>Pot S KVAr</th>\n      <th>Pot T KVAr</th>\n      <th>Pot R KVAr faltante</th>\n      <th>Pot S KVAr faltante</th>\n      <th>Pot T KVAr faltante</th>\n    </tr>\n    <tr>\n      <th>Data</th>\n      <th></th>\n      <th></th>\n      <th></th>\n      <th></th>\n      <th></th>\n      <th></th>\n      <th></th>\n      <th></th>\n      <th></th>\n      <th></th>\n      <th></th>\n      <th></th>\n      <th></th>\n      <th></th>\n      <th></th>\n      <th></th>\n      <th></th>\n      <th></th>\n      <th></th>\n      <th></th>\n      <th></th>\n    </tr>\n  </thead>\n  <tbody>\n    <tr>\n      <td>2019-07-07 05:05:10</td>\n      <td>1.57</td>\n      <td>1.45</td>\n      <td>1.55</td>\n      <td>0.16</td>\n      <td>0.03</td>\n      <td>0.32</td>\n      <td>221.25</td>\n      <td>218.48</td>\n      <td>218.70</td>\n      <td>0.601649</td>\n      <td>...</td>\n      <td>0.587139</td>\n      <td>0.096264</td>\n      <td>0.016461</td>\n      <td>0.187885</td>\n      <td>0.593898</td>\n      <td>0.548460</td>\n      <td>0.556266</td>\n      <td>0.358101</td>\n      <td>0.333412</td>\n      <td>0.326155</td>\n    </tr>\n    <tr>\n      <td>2019-07-07 05:05:20</td>\n      <td>1.57</td>\n      <td>1.45</td>\n      <td>1.55</td>\n      <td>0.16</td>\n      <td>0.03</td>\n      <td>0.32</td>\n      <td>221.17</td>\n      <td>218.48</td>\n      <td>218.64</td>\n      <td>0.601432</td>\n      <td>...</td>\n      <td>0.586978</td>\n      <td>0.096229</td>\n      <td>0.016461</td>\n      <td>0.187833</td>\n      <td>0.593684</td>\n      <td>0.548460</td>\n      <td>0.556113</td>\n      <td>0.357971</td>\n      <td>0.333412</td>\n      <td>0.326066</td>\n    </tr>\n    <tr>\n      <td>2019-07-07 05:05:30</td>\n      <td>1.55</td>\n      <td>1.45</td>\n      <td>1.55</td>\n      <td>0.16</td>\n      <td>0.03</td>\n      <td>0.32</td>\n      <td>221.25</td>\n      <td>218.53</td>\n      <td>218.67</td>\n      <td>0.593985</td>\n      <td>...</td>\n      <td>0.587059</td>\n      <td>0.095038</td>\n      <td>0.016465</td>\n      <td>0.187859</td>\n      <td>0.586333</td>\n      <td>0.548585</td>\n      <td>0.556190</td>\n      <td>0.353539</td>\n      <td>0.333488</td>\n      <td>0.326111</td>\n    </tr>\n    <tr>\n      <td>2019-07-07 05:05:40</td>\n      <td>1.55</td>\n      <td>1.45</td>\n      <td>1.55</td>\n      <td>0.16</td>\n      <td>0.03</td>\n      <td>0.32</td>\n      <td>221.25</td>\n      <td>218.59</td>\n      <td>218.78</td>\n      <td>0.593985</td>\n      <td>...</td>\n      <td>0.587354</td>\n      <td>0.095038</td>\n      <td>0.016469</td>\n      <td>0.187953</td>\n      <td>0.586333</td>\n      <td>0.548736</td>\n      <td>0.556469</td>\n      <td>0.353539</td>\n      <td>0.333579</td>\n      <td>0.326275</td>\n    </tr>\n    <tr>\n      <td>2019-07-07 05:05:50</td>\n      <td>1.57</td>\n      <td>1.45</td>\n      <td>1.57</td>\n      <td>0.16</td>\n      <td>0.03</td>\n      <td>0.32</td>\n      <td>221.23</td>\n      <td>218.53</td>\n      <td>218.75</td>\n      <td>0.601595</td>\n      <td>...</td>\n      <td>0.594851</td>\n      <td>0.096255</td>\n      <td>0.016465</td>\n      <td>0.190352</td>\n      <td>0.593845</td>\n      <td>0.548585</td>\n      <td>0.563572</td>\n      <td>0.358069</td>\n      <td>0.333488</td>\n      <td>0.330439</td>\n    </tr>\n  </tbody>\n</table>\n<p>5 rows × 21 columns</p>\n</div>"
     },
     "metadata": {},
     "output_type": "execute_result",
     "execution_count": 14
    }
   ],
   "source": [
    "Universal_p.head()"
   ]
  },
  {
   "cell_type": "code",
   "execution_count": 15,
   "metadata": {
    "pycharm": {
     "is_executing": false
    }
   },
   "outputs": [],
   "source": [
    "Valores_ComparacaoR = fpfases[(fpfases['FP R'] > fpfases['FP T'] ) & (fpfases['FP R'] > fpfases['FP T'])]\n",
    "Valores_ComparacaoS = fpfases[(fpfases['FP S'] > fpfases['FP T'] ) & (fpfases['FP S'] > fpfases['FP T'])]\n",
    "Valores_ComparacaoT = fpfases[(fpfases['FP T'] > fpfases['FP R'] ) & (fpfases['FP T'] > fpfases['FP S'])]"
   ]
  },
  {
   "cell_type": "code",
   "execution_count": 16,
   "metadata": {
    "pycharm": {
     "is_executing": false
    }
   },
   "outputs": [],
   "source": [
    "Universal_p.round(5).to_csv('Universal Leituras.csv')\n",
    "Universal.round(5).to_csv('Universal.csv')\n",
    "fpfases.round(5).to_csv('Universal FP FORAS.csv')"
   ]
  },
  {
   "cell_type": "code",
   "execution_count": 18,
   "metadata": {
    "pycharm": {
     "is_executing": false,
     "name": "#%%\n"
    }
   },
   "outputs": [
    {
     "data": {
      "text/plain": "                     Corrente R  Corrente S  Corrente T  FP R  FP S  FP T  \\\nData                                                                        \n2019-07-07 05:05:10        1.57        1.45        1.55  0.16  0.03  0.32   \n2019-07-07 05:05:20        1.57        1.45        1.55  0.16  0.03  0.32   \n2019-07-07 05:05:30        1.55        1.45        1.55  0.16  0.03  0.32   \n2019-07-07 05:05:40        1.55        1.45        1.55  0.16  0.03  0.32   \n2019-07-07 05:05:50        1.57        1.45        1.57  0.16  0.03  0.32   \n...                         ...         ...         ...   ...   ...   ...   \n2019-07-19 17:52:21     1374.25     1351.00     1365.00  0.89  0.89  0.89   \n2019-07-19 17:52:43     1280.00     1217.25     1197.25  0.89  0.89  0.89   \n2019-07-19 17:55:15     1268.75     1165.25     1157.50  0.89  0.89  0.89   \n2019-07-19 17:58:07     1291.75     1245.50     1279.50  1.10  0.89  0.90   \n2019-07-19 18:01:30     1259.25     1275.25     1235.75  1.10  0.89  0.89   \n\n                     Tensão R  Tensão S  Tensão T   Pot R KVA  ...  \\\nData                                                           ...   \n2019-07-07 05:05:10    221.25    218.48    218.70    0.601649  ...   \n2019-07-07 05:05:20    221.17    218.48    218.64    0.601432  ...   \n2019-07-07 05:05:30    221.25    218.53    218.67    0.593985  ...   \n2019-07-07 05:05:40    221.25    218.59    218.78    0.593985  ...   \n2019-07-07 05:05:50    221.23    218.53    218.75    0.601595  ...   \n...                       ...       ...       ...         ...  ...   \n2019-07-19 17:52:21    220.64    218.70    218.53  525.182954  ...   \n2019-07-19 17:52:43    220.57    218.56    218.56  489.009212  ...   \n2019-07-19 17:55:15    221.06    219.14    219.14  485.788073  ...   \n2019-07-19 17:58:07    220.92    219.20    219.00  494.281245  ...   \n2019-07-19 18:01:30    220.64    218.81    218.71  481.234590  ...   \n\n                      Pot T KVA    Pot R KW    Pot S KW    Pot T KW  \\\nData                                                                  \n2019-07-07 05:05:10    0.587139    0.096264    0.016461    0.187885   \n2019-07-07 05:05:20    0.586978    0.096229    0.016461    0.187833   \n2019-07-07 05:05:30    0.587059    0.095038    0.016465    0.187859   \n2019-07-07 05:05:40    0.587354    0.095038    0.016469    0.187953   \n2019-07-07 05:05:50    0.594851    0.096255    0.016465    0.190352   \n...                         ...         ...         ...         ...   \n2019-07-19 17:52:21  516.659411  467.412829  455.464745  459.826876   \n2019-07-19 17:52:43  453.227398  435.218198  410.110699  403.372384   \n2019-07-19 17:55:15  439.342568  432.351385  393.632912  391.014886   \n2019-07-19 17:58:07  485.338823 -444.853121  420.857349  436.804941   \n2019-07-19 18:01:30  468.122900 -433.111131  430.143270  416.629381   \n\n                     Pot R KVAr  Pot S KVAr  Pot T KVAr  Pot R KVAr faltante  \\\nData                                                                           \n2019-07-07 05:05:10    0.593898    0.548460    0.556266             0.358101   \n2019-07-07 05:05:20    0.593684    0.548460    0.556113             0.357971   \n2019-07-07 05:05:30    0.586333    0.548585    0.556190             0.353539   \n2019-07-07 05:05:40    0.586333    0.548736    0.556469             0.353539   \n2019-07-07 05:05:50    0.593845    0.548585    0.563572             0.358069   \n...                         ...         ...         ...                  ...   \n2019-07-19 17:52:21  239.462695  233.341510  235.576296            33.633854   \n2019-07-19 17:52:43  222.968897  210.105943  206.653802            31.317209   \n2019-07-19 17:55:15  221.500185  201.664122  200.322868            31.110920   \n2019-07-19 17:58:07  215.452200  215.611616  211.554288            21.734305   \n2019-07-19 18:01:30  209.765295  220.368934  213.445563            21.160624   \n\n                     Pot S KVAr faltante  Pot T KVAr faltante  \nData                                                           \n2019-07-07 05:05:10             0.333412             0.326155  \n2019-07-07 05:05:20             0.333412             0.326066  \n2019-07-07 05:05:30             0.333488             0.326111  \n2019-07-07 05:05:40             0.333579             0.326275  \n2019-07-07 05:05:50             0.333488             0.330439  \n...                                  ...                  ...  \n2019-07-19 17:52:21            32.774100            33.087988  \n2019-07-19 17:52:43            29.510536            29.025664  \n2019-07-19 17:55:15            28.324836            28.136450  \n2019-07-19 17:58:07            30.283838            21.341093  \n2019-07-19 18:01:30            30.952030            29.979604  \n\n[10239 rows x 21 columns]",
      "text/html": "<div>\n<style scoped>\n    .dataframe tbody tr th:only-of-type {\n        vertical-align: middle;\n    }\n\n    .dataframe tbody tr th {\n        vertical-align: top;\n    }\n\n    .dataframe thead th {\n        text-align: right;\n    }\n</style>\n<table border=\"1\" class=\"dataframe\">\n  <thead>\n    <tr style=\"text-align: right;\">\n      <th></th>\n      <th>Corrente R</th>\n      <th>Corrente S</th>\n      <th>Corrente T</th>\n      <th>FP R</th>\n      <th>FP S</th>\n      <th>FP T</th>\n      <th>Tensão R</th>\n      <th>Tensão S</th>\n      <th>Tensão T</th>\n      <th>Pot R KVA</th>\n      <th>...</th>\n      <th>Pot T KVA</th>\n      <th>Pot R KW</th>\n      <th>Pot S KW</th>\n      <th>Pot T KW</th>\n      <th>Pot R KVAr</th>\n      <th>Pot S KVAr</th>\n      <th>Pot T KVAr</th>\n      <th>Pot R KVAr faltante</th>\n      <th>Pot S KVAr faltante</th>\n      <th>Pot T KVAr faltante</th>\n    </tr>\n    <tr>\n      <th>Data</th>\n      <th></th>\n      <th></th>\n      <th></th>\n      <th></th>\n      <th></th>\n      <th></th>\n      <th></th>\n      <th></th>\n      <th></th>\n      <th></th>\n      <th></th>\n      <th></th>\n      <th></th>\n      <th></th>\n      <th></th>\n      <th></th>\n      <th></th>\n      <th></th>\n      <th></th>\n      <th></th>\n      <th></th>\n    </tr>\n  </thead>\n  <tbody>\n    <tr>\n      <td>2019-07-07 05:05:10</td>\n      <td>1.57</td>\n      <td>1.45</td>\n      <td>1.55</td>\n      <td>0.16</td>\n      <td>0.03</td>\n      <td>0.32</td>\n      <td>221.25</td>\n      <td>218.48</td>\n      <td>218.70</td>\n      <td>0.601649</td>\n      <td>...</td>\n      <td>0.587139</td>\n      <td>0.096264</td>\n      <td>0.016461</td>\n      <td>0.187885</td>\n      <td>0.593898</td>\n      <td>0.548460</td>\n      <td>0.556266</td>\n      <td>0.358101</td>\n      <td>0.333412</td>\n      <td>0.326155</td>\n    </tr>\n    <tr>\n      <td>2019-07-07 05:05:20</td>\n      <td>1.57</td>\n      <td>1.45</td>\n      <td>1.55</td>\n      <td>0.16</td>\n      <td>0.03</td>\n      <td>0.32</td>\n      <td>221.17</td>\n      <td>218.48</td>\n      <td>218.64</td>\n      <td>0.601432</td>\n      <td>...</td>\n      <td>0.586978</td>\n      <td>0.096229</td>\n      <td>0.016461</td>\n      <td>0.187833</td>\n      <td>0.593684</td>\n      <td>0.548460</td>\n      <td>0.556113</td>\n      <td>0.357971</td>\n      <td>0.333412</td>\n      <td>0.326066</td>\n    </tr>\n    <tr>\n      <td>2019-07-07 05:05:30</td>\n      <td>1.55</td>\n      <td>1.45</td>\n      <td>1.55</td>\n      <td>0.16</td>\n      <td>0.03</td>\n      <td>0.32</td>\n      <td>221.25</td>\n      <td>218.53</td>\n      <td>218.67</td>\n      <td>0.593985</td>\n      <td>...</td>\n      <td>0.587059</td>\n      <td>0.095038</td>\n      <td>0.016465</td>\n      <td>0.187859</td>\n      <td>0.586333</td>\n      <td>0.548585</td>\n      <td>0.556190</td>\n      <td>0.353539</td>\n      <td>0.333488</td>\n      <td>0.326111</td>\n    </tr>\n    <tr>\n      <td>2019-07-07 05:05:40</td>\n      <td>1.55</td>\n      <td>1.45</td>\n      <td>1.55</td>\n      <td>0.16</td>\n      <td>0.03</td>\n      <td>0.32</td>\n      <td>221.25</td>\n      <td>218.59</td>\n      <td>218.78</td>\n      <td>0.593985</td>\n      <td>...</td>\n      <td>0.587354</td>\n      <td>0.095038</td>\n      <td>0.016469</td>\n      <td>0.187953</td>\n      <td>0.586333</td>\n      <td>0.548736</td>\n      <td>0.556469</td>\n      <td>0.353539</td>\n      <td>0.333579</td>\n      <td>0.326275</td>\n    </tr>\n    <tr>\n      <td>2019-07-07 05:05:50</td>\n      <td>1.57</td>\n      <td>1.45</td>\n      <td>1.57</td>\n      <td>0.16</td>\n      <td>0.03</td>\n      <td>0.32</td>\n      <td>221.23</td>\n      <td>218.53</td>\n      <td>218.75</td>\n      <td>0.601595</td>\n      <td>...</td>\n      <td>0.594851</td>\n      <td>0.096255</td>\n      <td>0.016465</td>\n      <td>0.190352</td>\n      <td>0.593845</td>\n      <td>0.548585</td>\n      <td>0.563572</td>\n      <td>0.358069</td>\n      <td>0.333488</td>\n      <td>0.330439</td>\n    </tr>\n    <tr>\n      <td>...</td>\n      <td>...</td>\n      <td>...</td>\n      <td>...</td>\n      <td>...</td>\n      <td>...</td>\n      <td>...</td>\n      <td>...</td>\n      <td>...</td>\n      <td>...</td>\n      <td>...</td>\n      <td>...</td>\n      <td>...</td>\n      <td>...</td>\n      <td>...</td>\n      <td>...</td>\n      <td>...</td>\n      <td>...</td>\n      <td>...</td>\n      <td>...</td>\n      <td>...</td>\n      <td>...</td>\n    </tr>\n    <tr>\n      <td>2019-07-19 17:52:21</td>\n      <td>1374.25</td>\n      <td>1351.00</td>\n      <td>1365.00</td>\n      <td>0.89</td>\n      <td>0.89</td>\n      <td>0.89</td>\n      <td>220.64</td>\n      <td>218.70</td>\n      <td>218.53</td>\n      <td>525.182954</td>\n      <td>...</td>\n      <td>516.659411</td>\n      <td>467.412829</td>\n      <td>455.464745</td>\n      <td>459.826876</td>\n      <td>239.462695</td>\n      <td>233.341510</td>\n      <td>235.576296</td>\n      <td>33.633854</td>\n      <td>32.774100</td>\n      <td>33.087988</td>\n    </tr>\n    <tr>\n      <td>2019-07-19 17:52:43</td>\n      <td>1280.00</td>\n      <td>1217.25</td>\n      <td>1197.25</td>\n      <td>0.89</td>\n      <td>0.89</td>\n      <td>0.89</td>\n      <td>220.57</td>\n      <td>218.56</td>\n      <td>218.56</td>\n      <td>489.009212</td>\n      <td>...</td>\n      <td>453.227398</td>\n      <td>435.218198</td>\n      <td>410.110699</td>\n      <td>403.372384</td>\n      <td>222.968897</td>\n      <td>210.105943</td>\n      <td>206.653802</td>\n      <td>31.317209</td>\n      <td>29.510536</td>\n      <td>29.025664</td>\n    </tr>\n    <tr>\n      <td>2019-07-19 17:55:15</td>\n      <td>1268.75</td>\n      <td>1165.25</td>\n      <td>1157.50</td>\n      <td>0.89</td>\n      <td>0.89</td>\n      <td>0.89</td>\n      <td>221.06</td>\n      <td>219.14</td>\n      <td>219.14</td>\n      <td>485.788073</td>\n      <td>...</td>\n      <td>439.342568</td>\n      <td>432.351385</td>\n      <td>393.632912</td>\n      <td>391.014886</td>\n      <td>221.500185</td>\n      <td>201.664122</td>\n      <td>200.322868</td>\n      <td>31.110920</td>\n      <td>28.324836</td>\n      <td>28.136450</td>\n    </tr>\n    <tr>\n      <td>2019-07-19 17:58:07</td>\n      <td>1291.75</td>\n      <td>1245.50</td>\n      <td>1279.50</td>\n      <td>1.10</td>\n      <td>0.89</td>\n      <td>0.90</td>\n      <td>220.92</td>\n      <td>219.20</td>\n      <td>219.00</td>\n      <td>494.281245</td>\n      <td>...</td>\n      <td>485.338823</td>\n      <td>-444.853121</td>\n      <td>420.857349</td>\n      <td>436.804941</td>\n      <td>215.452200</td>\n      <td>215.611616</td>\n      <td>211.554288</td>\n      <td>21.734305</td>\n      <td>30.283838</td>\n      <td>21.341093</td>\n    </tr>\n    <tr>\n      <td>2019-07-19 18:01:30</td>\n      <td>1259.25</td>\n      <td>1275.25</td>\n      <td>1235.75</td>\n      <td>1.10</td>\n      <td>0.89</td>\n      <td>0.89</td>\n      <td>220.64</td>\n      <td>218.81</td>\n      <td>218.71</td>\n      <td>481.234590</td>\n      <td>...</td>\n      <td>468.122900</td>\n      <td>-433.111131</td>\n      <td>430.143270</td>\n      <td>416.629381</td>\n      <td>209.765295</td>\n      <td>220.368934</td>\n      <td>213.445563</td>\n      <td>21.160624</td>\n      <td>30.952030</td>\n      <td>29.979604</td>\n    </tr>\n  </tbody>\n</table>\n<p>10239 rows × 21 columns</p>\n</div>"
     },
     "metadata": {},
     "output_type": "execute_result",
     "execution_count": 18
    }
   ],
   "source": [
    "fpfases"
   ]
  }
 ],
 "metadata": {
  "kernelspec": {
   "display_name": "Python 3",
   "language": "python",
   "name": "python3"
  },
  "language_info": {
   "codemirror_mode": {
    "name": "ipython",
    "version": 3
   },
   "file_extension": ".py",
   "mimetype": "text/x-python",
   "name": "python",
   "nbconvert_exporter": "python",
   "pygments_lexer": "ipython3",
   "version": "3.6.9"
  },
  "pycharm": {
   "stem_cell": {
    "cell_type": "raw",
    "source": [],
    "metadata": {
     "collapsed": false
    }
   }
  }
 },
 "nbformat": 4,
 "nbformat_minor": 4
}